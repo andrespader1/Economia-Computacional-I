{
 "cells": [
  {
   "cell_type": "markdown",
   "id": "d9b815d7-a5ca-4825-8bcf-4ffd1ab4980e",
   "metadata": {},
   "source": [
    "# Estruturas de dados"
   ]
  },
  {
   "cell_type": "markdown",
   "id": "072b702b-b23a-4b1b-a74e-2151c033766a",
   "metadata": {},
   "source": [
    "## List\n",
    "\n"
   ]
  },
  {
   "cell_type": "code",
   "execution_count": 1,
   "id": "986b4ffb-e1d7-43b6-917b-18b7caedd832",
   "metadata": {},
   "outputs": [],
   "source": [
    "# Listagem 1\n",
    "\n",
    "## Alocação de memória\n",
    "a = [1, 'b', 2.3]"
   ]
  },
  {
   "cell_type": "code",
   "execution_count": 2,
   "id": "e302c008-4695-4f56-96ab-721cbe14ad42",
   "metadata": {},
   "outputs": [
    {
     "name": "stdout",
     "output_type": "stream",
     "text": [
      "[1, 'b', 2.3]\n"
     ]
    }
   ],
   "source": [
    "# Saída de dados\n",
    "print(a)"
   ]
  },
  {
   "cell_type": "code",
   "execution_count": 3,
   "id": "43a3a78c-5cac-46f5-a9ed-322b7b7ef42c",
   "metadata": {},
   "outputs": [
    {
     "name": "stdout",
     "output_type": "stream",
     "text": [
      "1\n"
     ]
    }
   ],
   "source": [
    "# Acessando os elementos da lista\n",
    "\n",
    "print(a[0])"
   ]
  },
  {
   "cell_type": "code",
   "execution_count": 4,
   "id": "a6f33dc6-1a80-44c0-a459-5a0a4dad2e54",
   "metadata": {},
   "outputs": [
    {
     "name": "stdout",
     "output_type": "stream",
     "text": [
      "1\n",
      "b\n",
      "2.3\n"
     ]
    },
    {
     "ename": "IndexError",
     "evalue": "list index out of range",
     "output_type": "error",
     "traceback": [
      "\u001b[1;31m---------------------------------------------------------------------------\u001b[0m",
      "\u001b[1;31mIndexError\u001b[0m                                Traceback (most recent call last)",
      "Cell \u001b[1;32mIn[4], line 6\u001b[0m\n\u001b[0;32m      4\u001b[0m \u001b[38;5;28mprint\u001b[39m(a[\u001b[38;5;241m1\u001b[39m])\n\u001b[0;32m      5\u001b[0m \u001b[38;5;28mprint\u001b[39m(a[\u001b[38;5;241m2\u001b[39m])\n\u001b[1;32m----> 6\u001b[0m \u001b[38;5;28mprint\u001b[39m(a[\u001b[38;5;241m3\u001b[39m])\n",
      "\u001b[1;31mIndexError\u001b[0m: list index out of range"
     ]
    }
   ],
   "source": [
    "# Acessando os elementos da lista\n",
    "\n",
    "print(a[0])\n",
    "print(a[1])\n",
    "print(a[2])\n",
    "print(a[3])"
   ]
  },
  {
   "cell_type": "code",
   "execution_count": 5,
   "id": "3445504a-e49e-4f60-abe1-2f88057c1fb4",
   "metadata": {},
   "outputs": [
    {
     "name": "stdout",
     "output_type": "stream",
     "text": [
      "[2, 'b', 2.3]\n"
     ]
    }
   ],
   "source": [
    "# Modificando os elementos da lista\n",
    "\n",
    "a[0] = 2\n",
    "print(a)"
   ]
  },
  {
   "cell_type": "code",
   "execution_count": 6,
   "id": "dbf4f8d3-0146-49c8-934c-9289dd7dccef",
   "metadata": {},
   "outputs": [],
   "source": [
    "## Listagem 2: ordenação de listas\n",
    "\n",
    "# Alocação de memória (ou atribuição de variáveis)\n",
    "\n",
    "lista = [1, 5, 2, 87, 31]"
   ]
  },
  {
   "cell_type": "code",
   "execution_count": 8,
   "id": "7b748de9-2f94-4bf7-9b76-cad620a46442",
   "metadata": {},
   "outputs": [
    {
     "name": "stdout",
     "output_type": "stream",
     "text": [
      "[1, 2, 5, 31, 87]\n"
     ]
    }
   ],
   "source": [
    "## Ordenação com a função sorted\n",
    "\n",
    "lista_ordenada_1 = sorted(lista)\n",
    "print(lista_ordenada_1)"
   ]
  },
  {
   "cell_type": "code",
   "execution_count": 10,
   "id": "4ca6f991-fec2-49aa-8690-fc024e784ead",
   "metadata": {},
   "outputs": [
    {
     "name": "stdout",
     "output_type": "stream",
     "text": [
      "[1, 2, 5, 31, 87]\n"
     ]
    }
   ],
   "source": [
    "## Ordenação com o MÉTODO sort()\n",
    "\n",
    "lista.sort()\n",
    "print(lista)"
   ]
  },
  {
   "cell_type": "code",
   "execution_count": 11,
   "id": "baaed406-830d-4826-a0be-8a2d4c6b22bd",
   "metadata": {},
   "outputs": [],
   "source": [
    "# Busca de dados de cpf\n",
    "\n",
    "base = [1,5,2,87,31]"
   ]
  },
  {
   "cell_type": "code",
   "execution_count": null,
   "id": "ba6f57ce-22ad-46d5-9a80-40b25569e5e8",
   "metadata": {},
   "outputs": [],
   "source": [
    "# Código do programador\n",
    "\n",
    "## Alocação de memória\n",
    "\n",
    "lista = base\n",
    "achou = False\n",
    "posicao = 0\n",
    "cpf = 0\n"
   ]
  },
  {
   "cell_type": "code",
   "execution_count": null,
   "id": "f10bf945-0f27-42c2-a0b3-75eb5ca04df6",
   "metadata": {},
   "outputs": [],
   "source": [
    "# Leitura de dados\n",
    "\n",
    "cpf = int(input(\"Digite o valor a procurar: \"))"
   ]
  },
  {
   "cell_type": "code",
   "execution_count": null,
   "id": "f9bbe069-aaaa-4024-a510-1441d1a38880",
   "metadata": {},
   "outputs": [],
   "source": [
    "print(cpf) # debug com print"
   ]
  },
  {
   "cell_type": "code",
   "execution_count": null,
   "id": "33a960d0-b2b3-431c-b1c3-011232246e38",
   "metadata": {},
   "outputs": [],
   "source": [
    "# Processamento de dados\n",
    "\n",
    "while posicao < len(lista):\n",
    "    if lista[posicao] == cpf:\n",
    "        achou = True\n",
    "        break\n",
    "    posicao += 1 # é a mesma coisa que posicao = posicao +1\n"
   ]
  },
  {
   "cell_type": "code",
   "execution_count": null,
   "id": "4ad1aec1-da37-4469-81fa-98fbcf695645",
   "metadata": {},
   "outputs": [],
   "source": [
    "# Saída de dados:\n",
    "\n",
    "if achou:\n",
    "    print(f\"\\nO valor {cpf} foi achado na posição {posicao}\")\n",
    "else:\n",
    "    print(f\"\\nO valor {cpf} não foi achado.\")"
   ]
  },
  {
   "cell_type": "code",
   "execution_count": null,
   "id": "6f5a7f90-e4ee-4024-87ac-1fe5eda92af8",
   "metadata": {},
   "outputs": [],
   "source": []
  }
 ],
 "metadata": {
  "kernelspec": {
   "display_name": "Python 3 (ipykernel)",
   "language": "python",
   "name": "python3"
  },
  "language_info": {
   "codemirror_mode": {
    "name": "ipython",
    "version": 3
   },
   "file_extension": ".py",
   "mimetype": "text/x-python",
   "name": "python",
   "nbconvert_exporter": "python",
   "pygments_lexer": "ipython3",
   "version": "3.11.7"
  }
 },
 "nbformat": 4,
 "nbformat_minor": 5
}

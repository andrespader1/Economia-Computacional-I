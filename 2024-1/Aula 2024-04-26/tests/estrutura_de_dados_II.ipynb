{
 "cells": [
  {
   "cell_type": "markdown",
   "id": "30ae1288-ac3b-4e65-9d91-3b6826bb7ee6",
   "metadata": {},
   "source": [
    "# Estruturas de dados II"
   ]
  },
  {
   "cell_type": "markdown",
   "id": "0d8e6c10-3a02-45ce-9ffb-f57e7f62983c",
   "metadata": {},
   "source": [
    "## Strings\n",
    "\n",
    "String é a estrutura de dados utilizada para armazenar **textos**.\n",
    "\n",
    "Confira a listagem a seguir:"
   ]
  },
  {
   "cell_type": "code",
   "execution_count": 2,
   "id": "02ea2097-3241-40e5-a823-55a11ac26b2a",
   "metadata": {},
   "outputs": [],
   "source": [
    "# Listagem 1: Definindo uma variável do tipo string, ou alocando memória para um tipo string, ou instanciando um objeto de tipo string ou criando uma variável do tipo string\n",
    "\n",
    "texto = \"A casa de João é grande.\""
   ]
  },
  {
   "cell_type": "code",
   "execution_count": 4,
   "id": "50ffbff9-1ea4-4d91-9c4a-40a4dd54479a",
   "metadata": {},
   "outputs": [
    {
     "name": "stdout",
     "output_type": "stream",
     "text": [
      "A\n"
     ]
    }
   ],
   "source": [
    "# Listagem 2: alterando uma string\n",
    "\n",
    "texto = \"A casa de João é pequena.\"\n",
    "print(texto[0])"
   ]
  },
  {
   "cell_type": "code",
   "execution_count": 5,
   "id": "dcdaaaeb-53ed-406c-ae72-9a5c818cde24",
   "metadata": {},
   "outputs": [
    {
     "ename": "TypeError",
     "evalue": "'str' object does not support item assignment",
     "output_type": "error",
     "traceback": [
      "\u001b[1;31m---------------------------------------------------------------------------\u001b[0m",
      "\u001b[1;31mTypeError\u001b[0m                                 Traceback (most recent call last)",
      "Cell \u001b[1;32mIn[5], line 3\u001b[0m\n\u001b[0;32m      1\u001b[0m \u001b[38;5;66;03m# Listagem 3: alterando um caracter de uma string\u001b[39;00m\n\u001b[1;32m----> 3\u001b[0m texto[\u001b[38;5;241m0\u001b[39m] \u001b[38;5;241m=\u001b[39m \u001b[38;5;124m'\u001b[39m\u001b[38;5;124ma\u001b[39m\u001b[38;5;124m'\u001b[39m\n\u001b[0;32m      4\u001b[0m \u001b[38;5;28mprint\u001b[39m(texto)\n",
      "\u001b[1;31mTypeError\u001b[0m: 'str' object does not support item assignment"
     ]
    }
   ],
   "source": [
    "# Listagem 3: alterando um caracter de uma string\n",
    "\n",
    "texto[0] = 'a'\n",
    "print(texto)"
   ]
  },
  {
   "cell_type": "code",
   "execution_count": 6,
   "id": "dd11c7d9-74a5-45f5-9c04-5c72ade32494",
   "metadata": {},
   "outputs": [
    {
     "data": {
      "text/plain": [
       "'A casa de João é pequena.'"
      ]
     },
     "execution_count": 6,
     "metadata": {},
     "output_type": "execute_result"
    }
   ],
   "source": [
    "texto"
   ]
  },
  {
   "cell_type": "code",
   "execution_count": 7,
   "id": "f1f25555-a409-4f48-a8a6-db63edb12c5a",
   "metadata": {},
   "outputs": [
    {
     "data": {
      "text/plain": [
       "1802856643056"
      ]
     },
     "execution_count": 7,
     "metadata": {},
     "output_type": "execute_result"
    }
   ],
   "source": [
    "id(texto)"
   ]
  },
  {
   "cell_type": "code",
   "execution_count": 8,
   "id": "ae2fe981-e533-4267-937f-55baecdab7e6",
   "metadata": {},
   "outputs": [
    {
     "name": "stdout",
     "output_type": "stream",
     "text": [
      "['A', ' ', 'c', 'a', 's', 'a', ' ', 'd', 'e', ' ', 'J', 'o', 'ã', 'o', ' ', 'é', ' ', 'p', 'e', 'q', 'u', 'e', 'n', 'a', '.']\n",
      "A casa de João é pequena.\n"
     ]
    }
   ],
   "source": [
    "# Listagem 4: convertendo um string em lista\n",
    "\n",
    "lista_texto = list(texto)\n",
    "print(lista_texto)\n",
    "print(texto)"
   ]
  },
  {
   "cell_type": "code",
   "execution_count": 9,
   "id": "0d22c8f8-1f33-402f-b784-6dc00db5f5b4",
   "metadata": {},
   "outputs": [
    {
     "name": "stdout",
     "output_type": "stream",
     "text": [
      "['a', ' ', 'c', 'a', 's', 'a', ' ', 'd', 'e', ' ', 'J', 'o', 'ã', 'o', ' ', 'é', ' ', 'p', 'e', 'q', 'u', 'e', 'n', 'a', '.']\n"
     ]
    }
   ],
   "source": [
    "# Listagem 5: alterando lista_texto\n",
    "\n",
    "lista_texto[0] = 'a'\n",
    "print(lista_texto)"
   ]
  },
  {
   "cell_type": "code",
   "execution_count": 10,
   "id": "4758f12a-68f9-4d2b-bb9b-dd74684dce6b",
   "metadata": {},
   "outputs": [
    {
     "ename": "AttributeError",
     "evalue": "'list' object has no attribute 'join'",
     "output_type": "error",
     "traceback": [
      "\u001b[1;31m---------------------------------------------------------------------------\u001b[0m",
      "\u001b[1;31mAttributeError\u001b[0m                            Traceback (most recent call last)",
      "Cell \u001b[1;32mIn[10], line 3\u001b[0m\n\u001b[0;32m      1\u001b[0m \u001b[38;5;66;03m# Listagem 6: convertendo lista em string\u001b[39;00m\n\u001b[1;32m----> 3\u001b[0m texto2 \u001b[38;5;241m=\u001b[39m lista_texto\u001b[38;5;241m.\u001b[39mjoin()\n\u001b[0;32m      4\u001b[0m \u001b[38;5;28mprint\u001b[39m(texto2)\n",
      "\u001b[1;31mAttributeError\u001b[0m: 'list' object has no attribute 'join'"
     ]
    }
   ],
   "source": [
    "# Listagem 6: convertendo lista em string\n",
    "\n",
    "texto2 = lista_texto.join()\n",
    "print(texto2)"
   ]
  },
  {
   "cell_type": "code",
   "execution_count": 11,
   "id": "3b5d4970-839c-4ffe-a488-7db78c8f71f5",
   "metadata": {},
   "outputs": [
    {
     "data": {
      "text/plain": [
       "True"
      ]
     },
     "execution_count": 11,
     "metadata": {},
     "output_type": "execute_result"
    }
   ],
   "source": [
    "# Listagem 7: verificação parcial de strings\n",
    "\n",
    "nome = \"João da Silva\"\n",
    "\n",
    "nome.startswith(\"J\")"
   ]
  },
  {
   "cell_type": "code",
   "execution_count": 12,
   "id": "d89d8163-8d51-4ebd-a40a-fff9930f546a",
   "metadata": {},
   "outputs": [
    {
     "data": {
      "text/plain": [
       "True"
      ]
     },
     "execution_count": 12,
     "metadata": {},
     "output_type": "execute_result"
    }
   ],
   "source": [
    "nome.startswith(\"João\")"
   ]
  },
  {
   "cell_type": "code",
   "execution_count": 13,
   "id": "77f162e0-7e1f-4aed-958d-fa98ca8c9a48",
   "metadata": {},
   "outputs": [
    {
     "data": {
      "text/plain": [
       "True"
      ]
     },
     "execution_count": 13,
     "metadata": {},
     "output_type": "execute_result"
    }
   ],
   "source": [
    "# Listagem 8:\n",
    "\n",
    "outro_nome = \"João da Silva Antônio\"\n",
    "\n",
    "outro_nome.startswith(\"J\")"
   ]
  },
  {
   "cell_type": "code",
   "execution_count": 14,
   "id": "ee8edc26-8ddc-4f78-b2be-80015e8bf245",
   "metadata": {},
   "outputs": [
    {
     "name": "stdout",
     "output_type": "stream",
     "text": [
      "2\n"
     ]
    }
   ],
   "source": [
    "# Listagem 9: determinando quantos alunos em uma turma tem o nome inciando com 'Pedro':\n",
    "lista_alunos = (\"Pedro Antônio\", \"Pedro da Silva\", \"Márcia\")\n",
    "contador = 0\n",
    "for aluno in lista_alunos:\n",
    "    if aluno.startswith(\"Pedro\"):\n",
    "        contador+=1\n",
    "print(contador)"
   ]
  },
  {
   "cell_type": "code",
   "execution_count": 17,
   "id": "bb35ff7f-010e-4529-a780-37c44d5b3ad9",
   "metadata": {},
   "outputs": [
    {
     "name": "stdout",
     "output_type": "stream",
     "text": [
      "A CASA DE JOÃO É PEQUENA.\n"
     ]
    }
   ],
   "source": [
    "# Listagem 10: colocando todos os textos de uma string em maiúsculas:\n",
    "\n",
    "texto3 = texto.upper()\n",
    "print(texto3)"
   ]
  },
  {
   "cell_type": "code",
   "execution_count": 18,
   "id": "e326f0ad-226b-4c80-9846-44b74c4892b8",
   "metadata": {},
   "outputs": [
    {
     "name": "stdout",
     "output_type": "stream",
     "text": [
      "a casa de joão é pequena.\n"
     ]
    }
   ],
   "source": [
    "# Listagem 11: colocando todos os textos de uma string em minúsculas:\n",
    "\n",
    "texto4 = texto.lower()\n",
    "print(texto4)"
   ]
  },
  {
   "cell_type": "markdown",
   "id": "93ff3a6c-f6aa-4fb5-bb17-cf7f0a92fb2f",
   "metadata": {},
   "source": [
    "# Dicionários"
   ]
  },
  {
   "cell_type": "code",
   "execution_count": 19,
   "id": "3d06ddb5-408f-4d0e-924e-d5fb7163e0a8",
   "metadata": {},
   "outputs": [
    {
     "name": "stdout",
     "output_type": "stream",
     "text": [
      "{'arroz': 0.5, 'batata': 0.7, 'carne': 0.9, 'damascos': 0.1}\n"
     ]
    }
   ],
   "source": [
    "# Listagem 12: instanciando um dicionário\n",
    "\n",
    "tabela = {\"arroz\": 0.5, \"batata\": 0.7, \"carne\": 0.9, \"damascos\": 0.1}\n",
    "print(tabela)"
   ]
  },
  {
   "cell_type": "code",
   "execution_count": 20,
   "id": "4ad50ab8-56b4-466a-b98f-2b1a62101dcd",
   "metadata": {},
   "outputs": [
    {
     "data": {
      "text/plain": [
       "0.5"
      ]
     },
     "execution_count": 20,
     "metadata": {},
     "output_type": "execute_result"
    }
   ],
   "source": [
    "# Listagem 13: acessando dados no dicionário:\n",
    "\n",
    "tabela[\"arroz\"]"
   ]
  },
  {
   "cell_type": "code",
   "execution_count": 21,
   "id": "fee7d3a3-4904-4546-9db7-7a888cbadf45",
   "metadata": {},
   "outputs": [
    {
     "name": "stdout",
     "output_type": "stream",
     "text": [
      "{'arroz': 0.5, 'batata': 1.2, 'carne': 0.9, 'damascos': 0.1}\n"
     ]
    }
   ],
   "source": [
    "# listagem 14: alterando um balor na tabela\n",
    "\n",
    "tabela[\"batata\"] = 1.2\n",
    "print(tabela)"
   ]
  },
  {
   "cell_type": "code",
   "execution_count": 22,
   "id": "80b9aab9-0be7-42df-8f48-5a237e6bddd8",
   "metadata": {},
   "outputs": [
    {
     "name": "stdout",
     "output_type": "stream",
     "text": [
      "True\n",
      "False\n"
     ]
    }
   ],
   "source": [
    "# Listagem 15: verificando se uma chave na tabela\n",
    "\n",
    "print(\"arroz\" in tabela)\n",
    "print(\"casa\" in tabela)"
   ]
  },
  {
   "cell_type": "code",
   "execution_count": 24,
   "id": "89e02b19-02bc-47a7-a5da-73dae5b1fa40",
   "metadata": {},
   "outputs": [],
   "source": [
    "# Listagem 16: transformando usando dicionários como palnilhas\n",
    "\n",
    "planilha = {\"a1\": \"Nome\", \"b1\": \"Sobrenome\", \"a2\": \"Nelson\", \"a2\": \"Seixas\"}"
   ]
  },
  {
   "cell_type": "code",
   "execution_count": 29,
   "id": "b25bdef3-7d44-4855-b38d-3e7cc48255b5",
   "metadata": {},
   "outputs": [
    {
     "name": "stdout",
     "output_type": "stream",
     "text": [
      "{1, 2, 3}\n",
      "{1, 2, 3}\n",
      "True\n"
     ]
    }
   ],
   "source": [
    "# Listagem 7: instanciando conjuntos\n",
    "\n",
    "conjunto_1 = set([1,2,3,3])\n",
    "print(conjunto_1)\n",
    "\n",
    "conjunto_2 = {1,2,3,3}\n",
    "print(conjunto_2)\n",
    "\n",
    "conjunto_1 == conjunto_2\n",
    "print(conjunto_1 == conjunto_2)"
   ]
  },
  {
   "cell_type": "code",
   "execution_count": 30,
   "id": "57a22ce6-79b4-41dd-b1d9-0e38a8c4f4d5",
   "metadata": {},
   "outputs": [
    {
     "name": "stdout",
     "output_type": "stream",
     "text": [
      "{'João', 'José', 'Maria'}\n"
     ]
    }
   ],
   "source": [
    "# listagem 18: determinar o número de nomes diferentes em uma turma\n",
    "\n",
    "lista_alunos = [\"José\", \"José\", \"João\", \"João\", \"Maria\"]\n",
    "\n",
    "conjunto = set(lista_alunos)\n",
    "print(conjunto)"
   ]
  },
  {
   "cell_type": "code",
   "execution_count": null,
   "id": "6df6b0d0-c623-4993-aefc-f7fc1b7fcf4c",
   "metadata": {},
   "outputs": [],
   "source": []
  }
 ],
 "metadata": {
  "kernelspec": {
   "display_name": "Python 3 (ipykernel)",
   "language": "python",
   "name": "python3"
  },
  "language_info": {
   "codemirror_mode": {
    "name": "ipython",
    "version": 3
   },
   "file_extension": ".py",
   "mimetype": "text/x-python",
   "name": "python",
   "nbconvert_exporter": "python",
   "pygments_lexer": "ipython3",
   "version": "3.11.7"
  }
 },
 "nbformat": 4,
 "nbformat_minor": 5
}

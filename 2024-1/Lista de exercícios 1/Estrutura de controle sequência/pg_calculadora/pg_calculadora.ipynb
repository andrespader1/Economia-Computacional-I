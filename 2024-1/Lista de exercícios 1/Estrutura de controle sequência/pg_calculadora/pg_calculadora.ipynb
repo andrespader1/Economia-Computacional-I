{
 "cells": [
  {
   "cell_type": "markdown",
   "id": "008a9464-12d0-4c56-8149-cd1762911d07",
   "metadata": {},
   "source": [
    "# Codificação do programa 'Calculador de Progressão Geométrica'"
   ]
  },
  {
   "cell_type": "markdown",
   "id": "bba34e12-6e67-4ae6-8abe-025960b7de3e",
   "metadata": {},
   "source": [
    "## Requisitos\n",
    "\n",
    "Determinar o n-ésimo termo e a soma dos termos de uma progressão geométrica onde n, primeiro termo e a razão são dados pelo usuário."
   ]
  },
  {
   "cell_type": "code",
   "execution_count": 3,
   "id": "18a972f2-f983-4b65-9107-82d3e7dc5fc3",
   "metadata": {},
   "outputs": [
    {
     "name": "stdin",
     "output_type": "stream",
     "text": [
      "\n",
      "Digite o primeiro termo: \n",
      " 2\n",
      "\n",
      "Digite qual termo deseja encontrar: \n",
      " 3\n",
      "\n",
      "Digite a razão da PA: \n",
      " 3\n"
     ]
    },
    {
     "name": "stdout",
     "output_type": "stream",
     "text": [
      "\n",
      "O 3º termo da progressão geométrica é 18.0.\n",
      "A soma dos termos da progressão geométrica no 3º termo é 26.0. \n",
      "\n"
     ]
    }
   ],
   "source": [
    "# Alocação de memória\n",
    "\n",
    "a1 = 0\n",
    "n = 0\n",
    "r = 0\n",
    "\n",
    "# Entrada de dados\n",
    "\n",
    "a1 = float(input(\"\\nDigite o primeiro termo: \\n\"))\n",
    "n = int(input(\"\\nDigite qual termo deseja encontrar: \\n\"))\n",
    "r = float(input(\"\\nDigite a razão da PA: \\n\"))\n",
    "\n",
    "# Processamento de dados\n",
    "\n",
    "n_1 = n - 1\n",
    "an = a1 * r ** n_1\n",
    "\n",
    "sn = (a1 * ((r ** n) - 1))/ (r - 1)\n",
    "\n",
    "# Saída de dados\n",
    "\n",
    "print(f\"\\nO {n}º termo da progressão geométrica é {an}.\")\n",
    "print(f\"A soma dos termos da progressão geométrica no {n}º termo é {sn}. \\n\")"
   ]
  },
  {
   "cell_type": "code",
   "execution_count": null,
   "id": "9b318a38-36ab-40a8-99dc-0de8fa0c4676",
   "metadata": {},
   "outputs": [],
   "source": []
  }
 ],
 "metadata": {
  "kernelspec": {
   "display_name": "Python 3 (ipykernel)",
   "language": "python",
   "name": "python3"
  },
  "language_info": {
   "codemirror_mode": {
    "name": "ipython",
    "version": 3
   },
   "file_extension": ".py",
   "mimetype": "text/x-python",
   "name": "python",
   "nbconvert_exporter": "python",
   "pygments_lexer": "ipython3",
   "version": "3.11.7"
  }
 },
 "nbformat": 4,
 "nbformat_minor": 5
}

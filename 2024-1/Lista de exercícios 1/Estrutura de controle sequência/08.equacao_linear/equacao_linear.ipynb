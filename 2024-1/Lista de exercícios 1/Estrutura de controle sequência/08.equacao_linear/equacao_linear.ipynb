{
 "cells": [
  {
   "cell_type": "markdown",
   "id": "a3395aa0-7b47-43f1-860a-dd92a1ec7dca",
   "metadata": {},
   "source": [
    "# Programa 'Calculadora Equação Linear'"
   ]
  },
  {
   "cell_type": "markdown",
   "id": "cf0258b3-a6de-4ae5-b3e9-e04a657c18b7",
   "metadata": {},
   "source": [
    "## Requisitos:\n",
    "Criar um programa que resolva uma equação linear a.x = b"
   ]
  },
  {
   "cell_type": "code",
   "execution_count": 1,
   "id": "08074e2d-e803-4050-9c8c-f922f933e069",
   "metadata": {},
   "outputs": [],
   "source": [
    "# Alocação de memória\n",
    "\n",
    "coeficiente_a = 0\n",
    "coeficiente_b = 0"
   ]
  },
  {
   "cell_type": "code",
   "execution_count": 2,
   "id": "08afcbb5-17f3-405e-b619-737f8d023319",
   "metadata": {},
   "outputs": [
    {
     "name": "stdin",
     "output_type": "stream",
     "text": [
      "\n",
      "Digite o coeficiente 'a' 2\n",
      "\n",
      "Digite o coeficiente 'b' 4\n"
     ]
    }
   ],
   "source": [
    "# Entrada de dados\n",
    "\n",
    "coeficiente_a = float(input(\"\\nDigite o coeficiente 'a'\"))\n",
    "coeficiente_b = float(input(\"\\nDigite o coeficiente 'b'\"))"
   ]
  },
  {
   "cell_type": "code",
   "execution_count": 3,
   "id": "5409508f-21cd-4df1-943e-998654f558af",
   "metadata": {},
   "outputs": [],
   "source": [
    "# Processamento de dados\n",
    "\n",
    "resultado = coeficiente_b / coeficiente_a"
   ]
  },
  {
   "cell_type": "code",
   "execution_count": 6,
   "id": "c530c1aa-b873-4db2-b65c-b1a97500ca8d",
   "metadata": {},
   "outputs": [
    {
     "name": "stdout",
     "output_type": "stream",
     "text": [
      "\n",
      "O resultado da equação 2.0x = 4.0 é x = 2.0\n"
     ]
    }
   ],
   "source": [
    "# Saída de dados\n",
    "\n",
    "print(f\"\\nO resultado da equação {coeficiente_a}x = {coeficiente_b} é x = {resultado}\")"
   ]
  },
  {
   "cell_type": "code",
   "execution_count": null,
   "id": "fbeb344d-b195-498c-b19c-442be0fd07b2",
   "metadata": {},
   "outputs": [],
   "source": []
  }
 ],
 "metadata": {
  "kernelspec": {
   "display_name": "Python 3 (ipykernel)",
   "language": "python",
   "name": "python3"
  },
  "language_info": {
   "codemirror_mode": {
    "name": "ipython",
    "version": 3
   },
   "file_extension": ".py",
   "mimetype": "text/x-python",
   "name": "python",
   "nbconvert_exporter": "python",
   "pygments_lexer": "ipython3",
   "version": "3.11.7"
  }
 },
 "nbformat": 4,
 "nbformat_minor": 5
}

{
 "cells": [
  {
   "cell_type": "markdown",
   "id": "358bc1bb-c0dc-41f3-983e-7f5a723e1f2f",
   "metadata": {},
   "source": [
    "# Programa 'retorno_investimento':"
   ]
  },
  {
   "cell_type": "markdown",
   "id": "f2bb3d19-f1fe-472b-9279-c7e01ea8e12a",
   "metadata": {},
   "source": [
    "## Requisitos:\n",
    "Criar um programa que solicite o valor de um capital, o prazo de investimento, a taxa de juros, calcule e imprima na tela o valor capitalizado."
   ]
  },
  {
   "cell_type": "code",
   "execution_count": 18,
   "id": "69cb6267-b1a1-4eae-a1a3-a04edbbe4117",
   "metadata": {},
   "outputs": [],
   "source": [
    "# Alocação de memória:\n",
    "\n",
    "capital_inicial = 0\n",
    "prazo_investimento = 0\n",
    "taxa_juros = 0"
   ]
  },
  {
   "cell_type": "code",
   "execution_count": 19,
   "id": "6edeb4d2-a749-4d36-b8a9-57693ce436bd",
   "metadata": {},
   "outputs": [
    {
     "name": "stdin",
     "output_type": "stream",
     "text": [
      "\n",
      "Digite o capital inicial:  5000\n",
      "\n",
      "Digite o prazo de investimento em meses:  24\n",
      "\n",
      "Digite a taxa de juros anual:  10\n"
     ]
    }
   ],
   "source": [
    "# Entrada de dados:\n",
    "\n",
    "capital_inicial = float(input(\"\\nDigite o capital inicial: \"))\n",
    "prazo_investimento = int(input(\"\\nDigite o prazo de investimento em meses: \"))\n",
    "taxa_juros = float(input(\"\\nDigite a taxa de juros anual: \"))"
   ]
  },
  {
   "cell_type": "code",
   "execution_count": 27,
   "id": "a131ff1c-da6e-4b1c-a01c-dbaf6179a8ea",
   "metadata": {},
   "outputs": [],
   "source": [
    "# Processamento de dados\n",
    "\n",
    "prazo_anos = prazo_investimento / 12\n",
    "taxa_decimal = taxa_juros / 100\n",
    "delta = 1 + taxa_decimal\n",
    "delta_a = delta ** prazo_anos\n",
    "valor_capitalizado = capital_inicial * delta_a\n",
    "valor_capitalizado_final = round(valor_capitalizado, 2)\n",
    "formatado = f\"{valor_capitalizado_final:.2f}\""
   ]
  },
  {
   "cell_type": "code",
   "execution_count": 30,
   "id": "b50ec002-d52a-40c7-ac71-c9c650ba4f74",
   "metadata": {},
   "outputs": [
    {
     "name": "stdout",
     "output_type": "stream",
     "text": [
      "\n",
      "O valor capitalizado ao final de 24 meses é de R$ 6050.00. \n"
     ]
    }
   ],
   "source": [
    "# Saída de dados:\n",
    "\n",
    "print(f'\\nO valor capitalizado ao final de {prazo_investimento} meses é de R$ {formatado}. ')"
   ]
  },
  {
   "cell_type": "code",
   "execution_count": null,
   "id": "bfdd7de6-16a1-4828-a3bc-5df3597cb663",
   "metadata": {},
   "outputs": [],
   "source": []
  }
 ],
 "metadata": {
  "kernelspec": {
   "display_name": "Python 3 (ipykernel)",
   "language": "python",
   "name": "python3"
  },
  "language_info": {
   "codemirror_mode": {
    "name": "ipython",
    "version": 3
   },
   "file_extension": ".py",
   "mimetype": "text/x-python",
   "name": "python",
   "nbconvert_exporter": "python",
   "pygments_lexer": "ipython3",
   "version": "3.11.7"
  }
 },
 "nbformat": 4,
 "nbformat_minor": 5
}

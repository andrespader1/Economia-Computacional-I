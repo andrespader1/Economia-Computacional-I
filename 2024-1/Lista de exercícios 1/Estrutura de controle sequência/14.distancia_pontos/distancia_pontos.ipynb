{
 "cells": [
  {
   "cell_type": "markdown",
   "id": "3e7d4f57-22a2-4598-8204-a25b4d753898",
   "metadata": {},
   "source": [
    "## Programa 'Calculadora de distâncias':"
   ]
  },
  {
   "cell_type": "markdown",
   "id": "65fe85dc-bd85-44d6-a341-381a9bbe1ecf",
   "metadata": {},
   "source": [
    "## Requisição:\n",
    "Calcular a distância entre dois pontos de coordenadas, respectivamente, (x1, x2) e (x1, x2).\n",
    "Tais coordenadas devem ser lidas do teclado. Use a fórmula da distância euclideana entre dois pontos."
   ]
  },
  {
   "cell_type": "code",
   "execution_count": 1,
   "id": "ace4b6b4-adf7-4daf-8159-11a5cf922d1c",
   "metadata": {},
   "outputs": [],
   "source": [
    "# Alocação de memória:\n",
    "x1 = 0\n",
    "x2 = 0\n",
    "y1 = 0\n",
    "y2 = 0"
   ]
  },
  {
   "cell_type": "code",
   "execution_count": 2,
   "id": "8040608e-84bd-4721-9124-2d750a2020f9",
   "metadata": {},
   "outputs": [
    {
     "name": "stdin",
     "output_type": "stream",
     "text": [
      "\n",
      "Digite a coordenada X do Ponto A:  34\n",
      "\n",
      "Digite a coordenada Y do Ponto A:  15\n",
      "\n",
      "Digite a coordenada X do Ponto B:  65\n",
      "\n",
      "Digite a coordenada Y do Ponto B:  40\n"
     ]
    }
   ],
   "source": [
    "# Entrada de dados\n",
    "x1 = float(input(\"\\nDigite a coordenada X do Ponto A: \"))\n",
    "x2 = float(input(\"\\nDigite a coordenada Y do Ponto A: \"))\n",
    "y1 = float(input(\"\\nDigite a coordenada X do Ponto B: \"))\n",
    "y2 = float(input(\"\\nDigite a coordenada Y do Ponto B: \"))"
   ]
  },
  {
   "cell_type": "code",
   "execution_count": 6,
   "id": "1fc02c19-8b5b-46d9-9e47-04c19f24ac8a",
   "metadata": {},
   "outputs": [],
   "source": [
    "# Processamento de dados:\n",
    "import math\n",
    "distancia = math.sqrt((x1 - x2) ** 2 + (y1 - y2) ** 2)\n",
    "formatado = f\"{distancia:.2f}\""
   ]
  },
  {
   "cell_type": "code",
   "execution_count": 7,
   "id": "fd954315-aa80-4524-8257-bf7e23e7d007",
   "metadata": {},
   "outputs": [
    {
     "name": "stdout",
     "output_type": "stream",
     "text": [
      "\n",
      "A distância entre os pontos de coordenada (34.0, 15.0) e (65.0, 40.0) é de 31.40 unidades de distância.\n"
     ]
    }
   ],
   "source": [
    "# Saída de dados:\n",
    "print(f'\\nA distância entre os pontos de coordenada ({x1}, {x2}) e ({y1}, {y2}) é de {formatado} unidades de distância.')"
   ]
  },
  {
   "cell_type": "code",
   "execution_count": null,
   "id": "c6c6abbc-602a-4042-a6f5-46e99bb9264a",
   "metadata": {},
   "outputs": [],
   "source": []
  }
 ],
 "metadata": {
  "kernelspec": {
   "display_name": "Python 3 (ipykernel)",
   "language": "python",
   "name": "python3"
  },
  "language_info": {
   "codemirror_mode": {
    "name": "ipython",
    "version": 3
   },
   "file_extension": ".py",
   "mimetype": "text/x-python",
   "name": "python",
   "nbconvert_exporter": "python",
   "pygments_lexer": "ipython3",
   "version": "3.11.7"
  }
 },
 "nbformat": 4,
 "nbformat_minor": 5
}

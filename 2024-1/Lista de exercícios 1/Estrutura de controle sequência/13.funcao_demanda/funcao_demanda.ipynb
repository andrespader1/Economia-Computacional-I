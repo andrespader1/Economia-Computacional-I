{
 "cells": [
  {
   "cell_type": "markdown",
   "id": "d919b48f-f8f2-439e-b005-4510edcf3a3b",
   "metadata": {},
   "source": [
    "# Programa Função da Demanda:"
   ]
  },
  {
   "cell_type": "markdown",
   "id": "61abf91c-9e3d-4722-99f7-aa80a16bd64b",
   "metadata": {},
   "source": [
    "## Requisitos:\n",
    "Dados a renda do consumidor e o preço de um bem, deve calcular a quantidade de demandada\n",
    "deste bem, sabendo que sua função de demanda é dada por q = renda/preco ."
   ]
  },
  {
   "cell_type": "code",
   "execution_count": 1,
   "id": "cc744531-a099-4fed-a9d9-eacf43e448d4",
   "metadata": {},
   "outputs": [],
   "source": [
    "# Alocação de memória:\n",
    "\n",
    "renda = 0\n",
    "preço = 0"
   ]
  },
  {
   "cell_type": "code",
   "execution_count": 3,
   "id": "ef42f4d4-0986-4d12-a85c-3339cea668d4",
   "metadata": {},
   "outputs": [
    {
     "name": "stdin",
     "output_type": "stream",
     "text": [
      "\n",
      "Digite o valor da renda do consumidor:  560.90\n",
      "\n",
      "Digite o valor do preço do bem:  67.3\n"
     ]
    }
   ],
   "source": [
    "# Entrada de dados:\n",
    "\n",
    "renda = float(input(\"\\nDigite o valor da renda do consumidor: \"))\n",
    "preço = float(input(\"\\nDigite o valor do preço do bem: \"))"
   ]
  },
  {
   "cell_type": "code",
   "execution_count": 6,
   "id": "642fa50c-3967-42f7-b26f-0c09f8bdbd73",
   "metadata": {},
   "outputs": [],
   "source": [
    "# Processamento de dados:\n",
    "\n",
    "qnt_demandada = renda / preço\n",
    "qnt_final = round(qnt_demandada)"
   ]
  },
  {
   "cell_type": "code",
   "execution_count": 7,
   "id": "133359eb-cd13-4cb5-ac52-b92a55c525a9",
   "metadata": {},
   "outputs": [
    {
     "name": "stdout",
     "output_type": "stream",
     "text": [
      "\n",
      "A quantidade demandada do bem, para os dados inseridos, é de 8 unidades.\n"
     ]
    }
   ],
   "source": [
    "# Saída de dados:\n",
    "\n",
    "print(f'\\nA quantidade demandada do bem, para os dados inseridos, é de {qnt_final} unidades.')"
   ]
  },
  {
   "cell_type": "code",
   "execution_count": null,
   "id": "07f34373-4d98-4515-b887-d315485b0f71",
   "metadata": {},
   "outputs": [],
   "source": []
  }
 ],
 "metadata": {
  "kernelspec": {
   "display_name": "Python 3 (ipykernel)",
   "language": "python",
   "name": "python3"
  },
  "language_info": {
   "codemirror_mode": {
    "name": "ipython",
    "version": 3
   },
   "file_extension": ".py",
   "mimetype": "text/x-python",
   "name": "python",
   "nbconvert_exporter": "python",
   "pygments_lexer": "ipython3",
   "version": "3.11.7"
  }
 },
 "nbformat": 4,
 "nbformat_minor": 5
}

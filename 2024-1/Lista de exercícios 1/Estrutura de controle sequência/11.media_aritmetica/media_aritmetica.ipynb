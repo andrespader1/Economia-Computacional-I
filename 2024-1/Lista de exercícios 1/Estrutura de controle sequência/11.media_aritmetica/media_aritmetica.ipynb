{
 "cells": [
  {
   "cell_type": "markdown",
   "id": "0c49a554-9f0f-4cfc-9afe-54a05762703e",
   "metadata": {},
   "source": [
    "# Programa 'Calculadora Média Artmética'"
   ]
  },
  {
   "cell_type": "markdown",
   "id": "72deb852-0e5f-4088-a93c-3597d060f0ce",
   "metadata": {},
   "source": [
    "## Requisitos:\n",
    "Calcular a média aritmética de quatro números fornecidos pelo usuário."
   ]
  },
  {
   "cell_type": "code",
   "execution_count": 27,
   "id": "c8448231-1208-4fda-ba7c-844f674756e2",
   "metadata": {},
   "outputs": [],
   "source": [
    "# Definição da função de entrada:\n",
    "\n",
    "def entrada_dados():\n",
    "    dados = []\n",
    "    i = 0\n",
    "    while i < 4:\n",
    "        dados.append(float(input(f'\\nDigite a parcela {i + 1}: ')))\n",
    "        i+=1\n",
    "    return dados"
   ]
  },
  {
   "cell_type": "code",
   "execution_count": 28,
   "id": "9962067e-fac6-4925-85c0-8d27eb6e9f9e",
   "metadata": {},
   "outputs": [],
   "source": [
    "# Definição da função divisão:\n",
    "\n",
    "def soma(x,y,z,k):\n",
    "    resultado_soma = x + y + z + k\n",
    "    resultado_divisão = resultado_soma / 4\n",
    "    return resultado_divisão"
   ]
  },
  {
   "cell_type": "code",
   "execution_count": 17,
   "id": "c8977604-b9f3-4f9e-b51a-e7bffa754125",
   "metadata": {},
   "outputs": [
    {
     "data": {
      "text/plain": [
       "3.0"
      ]
     },
     "execution_count": 17,
     "metadata": {},
     "output_type": "execute_result"
    }
   ],
   "source": [
    "soma(1,2,3,6)"
   ]
  },
  {
   "cell_type": "code",
   "execution_count": 29,
   "id": "e19727ba-7552-48ea-8678-8c4c9405a939",
   "metadata": {},
   "outputs": [],
   "source": [
    "# Definição da função saída:\n",
    "\n",
    "def saída_dados(x):\n",
    "    print(f'\\nO resultado é {x}.')"
   ]
  },
  {
   "cell_type": "code",
   "execution_count": 38,
   "id": "acc06b2d-553d-4325-be34-4ff41568cd64",
   "metadata": {},
   "outputs": [],
   "source": [
    "# Definição da função principal:\n",
    "\n",
    "def main():\n",
    "    dados = entrada_dados()\n",
    "    resultado_soma = soma(dados[0], dados[1], dados[2], dados[3])\n",
    "    divisão = resultado_soma / 4\n",
    "    saída_dados(divisão)"
   ]
  },
  {
   "cell_type": "code",
   "execution_count": 39,
   "id": "a7130e06-cbac-4832-abd9-67760b230a77",
   "metadata": {},
   "outputs": [
    {
     "name": "stdin",
     "output_type": "stream",
     "text": [
      "\n",
      "Digite a parcela 1:  1\n",
      "\n",
      "Digite a parcela 2:  2\n",
      "\n",
      "Digite a parcela 3:  3\n",
      "\n",
      "Digite a parcela 4:  6\n"
     ]
    },
    {
     "name": "stdout",
     "output_type": "stream",
     "text": [
      "\n",
      "O resultado é 3.0.\n"
     ]
    }
   ],
   "source": [
    "# Execução da função\n",
    "\n",
    "main()"
   ]
  },
  {
   "cell_type": "code",
   "execution_count": 37,
   "id": "9f8f25ca-6aea-4d08-bd41-b6e8c8c136bc",
   "metadata": {},
   "outputs": [
    {
     "name": "stdin",
     "output_type": "stream",
     "text": [
      "\n",
      "Digite a parcela 1:  1\n",
      "\n",
      "Digite a parcela 2:  2\n",
      "\n",
      "Digite a parcela 3:  3\n",
      "\n",
      "Digite a parcela 4:  6\n"
     ]
    },
    {
     "name": "stdout",
     "output_type": "stream",
     "text": [
      "\n",
      "O resultado é 3.0.\n"
     ]
    }
   ],
   "source": [
    "# Definição da função de entrada:\n",
    "\n",
    "def entrada_dados():\n",
    "    dados = []\n",
    "    i = 0\n",
    "    while i < 4:\n",
    "        dados.append(float(input(f'\\nDigite a parcela {i + 1}: ')))\n",
    "        i += 1\n",
    "    return dados\n",
    "\n",
    "# Definição da função divisão:\n",
    "\n",
    "def soma(x,y,z,k):\n",
    "    resultado_soma = x + y + z + k\n",
    "    return resultado_soma\n",
    "\n",
    "# Definição da função saída:\n",
    "\n",
    "def saída_dados(x):\n",
    "    print(f'\\nO resultado é {x}.')\n",
    "\n",
    "# Definição da função principal:\n",
    "\n",
    "def main():\n",
    "    dados = entrada_dados()\n",
    "    resultado_soma = soma(dados[0], dados[1], dados[2], dados[3])\n",
    "    divisão = resultado_soma / 4\n",
    "    saída_dados(divisão)\n",
    "\n",
    "# Execução da função\n",
    "\n",
    "main()"
   ]
  },
  {
   "cell_type": "code",
   "execution_count": null,
   "id": "72d60fd9-64ef-499e-8710-104a1d43e9a1",
   "metadata": {},
   "outputs": [],
   "source": []
  }
 ],
 "metadata": {
  "kernelspec": {
   "display_name": "Python 3 (ipykernel)",
   "language": "python",
   "name": "python3"
  },
  "language_info": {
   "codemirror_mode": {
    "name": "ipython",
    "version": 3
   },
   "file_extension": ".py",
   "mimetype": "text/x-python",
   "name": "python",
   "nbconvert_exporter": "python",
   "pygments_lexer": "ipython3",
   "version": "3.11.7"
  }
 },
 "nbformat": 4,
 "nbformat_minor": 5
}

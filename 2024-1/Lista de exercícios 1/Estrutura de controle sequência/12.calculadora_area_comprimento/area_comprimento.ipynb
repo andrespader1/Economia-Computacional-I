{
 "cells": [
  {
   "cell_type": "markdown",
   "id": "04081599-ac20-41a3-86e4-17c5984aa09b",
   "metadata": {},
   "source": [
    "# Programa 'Calculadora de área e comprimento de círculo':"
   ]
  },
  {
   "cell_type": "markdown",
   "id": "b865c6ec-4a81-4e16-a995-9304b593193b",
   "metadata": {},
   "source": [
    "## Requisitos:\n",
    "Calcular a área de um círculo e o comprimento de sua circunferência cujo raio será informado pelo usuário."
   ]
  },
  {
   "cell_type": "code",
   "execution_count": 1,
   "id": "75a49018-8131-4762-9307-19f45b685f1e",
   "metadata": {},
   "outputs": [],
   "source": [
    "# Alocação de memória:\n",
    "\n",
    "raio = 0"
   ]
  },
  {
   "cell_type": "code",
   "execution_count": 3,
   "id": "7eabdc67-8491-4a8f-84e0-cd3050448ae0",
   "metadata": {},
   "outputs": [
    {
     "name": "stdin",
     "output_type": "stream",
     "text": [
      "\n",
      "Digite o raio do círculo em centímetros:  23\n"
     ]
    }
   ],
   "source": [
    "# Entrada de dados\n",
    "\n",
    "raio = float(input(\"\\nDigite o raio do círculo em centímetros: \"))"
   ]
  },
  {
   "cell_type": "code",
   "execution_count": 8,
   "id": "b8fa63f3-1fac-41d9-bd8e-f8f088bd1887",
   "metadata": {},
   "outputs": [],
   "source": [
    "# Processamento de dados:\n",
    "\n",
    "import math\n",
    "area = math.pi * raio ** 2\n",
    "comprimento = 2 * math.pi * raio\n",
    "area_r = f\"{area:.5f}\"\n",
    "comprimento_r = f\"{comprimento:.5f}\""
   ]
  },
  {
   "cell_type": "code",
   "execution_count": 10,
   "id": "a0d53e28-b5ba-4dae-86ae-495689122633",
   "metadata": {},
   "outputs": [
    {
     "name": "stdout",
     "output_type": "stream",
     "text": [
      "\n",
      "O círculo de raio 23.0 centímentros possui área de 1661.90251 centímetros e comprimento de 144.51326 centímetros.\n"
     ]
    }
   ],
   "source": [
    "# Saída de dados:\n",
    "\n",
    "print(f'\\nO círculo de raio {raio} centímentros possui área de {area_r} centímetros e comprimento de {comprimento_r} centímetros.')"
   ]
  },
  {
   "cell_type": "code",
   "execution_count": null,
   "id": "a6a7fac4-04ea-4e17-84ef-bb9595746921",
   "metadata": {},
   "outputs": [],
   "source": []
  }
 ],
 "metadata": {
  "kernelspec": {
   "display_name": "Python 3 (ipykernel)",
   "language": "python",
   "name": "python3"
  },
  "language_info": {
   "codemirror_mode": {
    "name": "ipython",
    "version": 3
   },
   "file_extension": ".py",
   "mimetype": "text/x-python",
   "name": "python",
   "nbconvert_exporter": "python",
   "pygments_lexer": "ipython3",
   "version": "3.11.7"
  }
 },
 "nbformat": 4,
 "nbformat_minor": 5
}

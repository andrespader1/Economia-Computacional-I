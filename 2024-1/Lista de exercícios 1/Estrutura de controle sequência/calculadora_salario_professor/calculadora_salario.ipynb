{
 "cells": [
  {
   "cell_type": "markdown",
   "id": "b53b1324-cc27-403f-8029-65542f9668c1",
   "metadata": {},
   "source": [
    "# Codificação do programa 'Calculadora do salário de professor da Universidade XYZ'"
   ]
  },
  {
   "cell_type": "markdown",
   "id": "337d2244-3b6e-4415-b4fa-f3b8a89164e0",
   "metadata": {},
   "source": [
    "## Requisitos:\n",
    "\n",
    "Calcular o salário de um professor horista na Univeridade XYZ. O programa deve perguntar o número de horas trabalhadas, calcular e imprimir na tela o valor do salário bruto, do salário líquido e do total de descontos, sabendo que o desconto do imposto é de 30% e que o valor da hora-aula é de R$ 40,00."
   ]
  },
  {
   "cell_type": "code",
   "execution_count": 14,
   "id": "d593e6b5-2296-4b6b-9535-b85c22bf5aa5",
   "metadata": {},
   "outputs": [
    {
     "name": "stdin",
     "output_type": "stream",
     "text": [
      "\n",
      "Digite a quantidade de horas trabalhadas: \n",
      " 40\n"
     ]
    },
    {
     "name": "stdout",
     "output_type": "stream",
     "text": [
      "\n",
      "O salário bruto do professor corresponde a R$ 1600.00.\n",
      "\n",
      "Os descontos correspondem a soma de R$ 480.00.\n",
      "\n",
      "O salário liquido do professor corresponde a R$ 1120.00.\n"
     ]
    }
   ],
   "source": [
    "# Alocação de memória\n",
    "\n",
    "horas_trabalhadas = 0\n",
    "valor_hora = 40\n",
    "casas_decimais = 2\n",
    "\n",
    "# Entrada de dados\n",
    "\n",
    "horas_trabalhadas = int(input(\"\\nDigite a quantidade de horas trabalhadas: \\n\"))\n",
    "\n",
    "# Processamento de dados\n",
    "\n",
    "salario_bruto = horas_trabalhadas * 40\n",
    "descontos = salario_bruto * 0.30\n",
    "salario_liquido = salario_bruto - descontos\n",
    "\n",
    "salario_bruto_formatado = f\"{salario_bruto:.{casas_decimais}f}\"\n",
    "descontos_formatado = f\"{descontos:.{casas_decimais}f}\"\n",
    "salario_liquido_formatado = f\"{salario_liquido:.{casas_decimais}f}\"\n",
    "\n",
    "# Saída de dados\n",
    "\n",
    "print(f\"\\nO salário bruto do professor corresponde a R$ {salario_bruto_formatado}.\")\n",
    "print(f\"\\nOs descontos correspondem a soma de R$ {descontos_formatado}.\")\n",
    "print(f\"\\nO salário liquido do professor corresponde a R$ {salario_liquido_formatado}.\")"
   ]
  },
  {
   "cell_type": "code",
   "execution_count": 18,
   "id": "dbf911fa-c632-4431-81ac-530646843938",
   "metadata": {},
   "outputs": [
    {
     "name": "stdin",
     "output_type": "stream",
     "text": [
      "\n",
      "Digite a quantidade de horas trabalhadas: \n",
      " 40\n"
     ]
    },
    {
     "name": "stdout",
     "output_type": "stream",
     "text": [
      "\n",
      "O salário bruto do professor corresponde a R$ 1600.00.\n",
      "\n",
      "Os descontos correspondem a soma de R$ 480.00.\n",
      "\n",
      "O salário liquido do professor corresponde a R$ 1120.00.\n"
     ]
    }
   ],
   "source": [
    "# Alocação de memória\n",
    "\n",
    "horas_trabalhadas = 0\n",
    "valor_hora = 40\n",
    "casas_decimais = 2\n",
    "\n",
    "# Entrada de dados\n",
    "\n",
    "horas_trabalhadas = float(input(\"\\nDigite a quantidade de horas trabalhadas: \\n\"))\n",
    "\n",
    "# Processamento de dados\n",
    "\n",
    "salario_bruto = horas_trabalhadas * 40\n",
    "descontos = salario_bruto * 0.30\n",
    "salario_liquido = salario_bruto - descontos\n",
    "\n",
    "# Saída de dados\n",
    "\n",
    "print(f\"\\nO salário bruto do professor corresponde a R$ {salario_bruto:.{casas_decimais}f}.\")\n",
    "print(f\"\\nOs descontos correspondem a soma de R$ {descontos:.{casas_decimais}f}.\")\n",
    "print(f\"\\nO salário liquido do professor corresponde a R$ {salario_liquido:.{casas_decimais}f}.\")"
   ]
  },
  {
   "cell_type": "code",
   "execution_count": null,
   "id": "a2ee76cc-0aa0-4d06-87d1-be4753790490",
   "metadata": {},
   "outputs": [],
   "source": []
  }
 ],
 "metadata": {
  "kernelspec": {
   "display_name": "Python 3 (ipykernel)",
   "language": "python",
   "name": "python3"
  },
  "language_info": {
   "codemirror_mode": {
    "name": "ipython",
    "version": 3
   },
   "file_extension": ".py",
   "mimetype": "text/x-python",
   "name": "python",
   "nbconvert_exporter": "python",
   "pygments_lexer": "ipython3",
   "version": "3.11.7"
  }
 },
 "nbformat": 4,
 "nbformat_minor": 5
}

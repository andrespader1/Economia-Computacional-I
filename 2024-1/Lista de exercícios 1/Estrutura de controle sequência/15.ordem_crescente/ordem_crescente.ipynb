{
 "cells": [
  {
   "cell_type": "markdown",
   "id": "0eab2431-b0ae-4788-a032-547eaf43ae0d",
   "metadata": {},
   "source": [
    "# Programa 'ordem_crescente':"
   ]
  },
  {
   "cell_type": "markdown",
   "id": "03b54d54-eb18-4ea5-b84d-5e07a4b265b1",
   "metadata": {},
   "source": [
    "## Requisitos:\n",
    "Ler do teclado 3 valores reais e os imprimir na tela em ordem crescente."
   ]
  },
  {
   "cell_type": "code",
   "execution_count": 3,
   "id": "10609fe0-0e65-4a34-82a5-c80f72ae8285",
   "metadata": {},
   "outputs": [],
   "source": [
    "# Definição da função de entrada:\n",
    "\n",
    "def entrada_dados():\n",
    "    dados = []\n",
    "    i = 0\n",
    "    while i < 3:\n",
    "        dados.append(float(input(f'\\nDigite a parcela {i + 1}: ')))\n",
    "        i+=1\n",
    "    return dados"
   ]
  },
  {
   "cell_type": "code",
   "execution_count": 4,
   "id": "ed54fbde-1564-4d20-8249-84ee50c38c47",
   "metadata": {},
   "outputs": [],
   "source": [
    "# Definição da função ordenamento:\n",
    "\n",
    "def dados(x,y,z):\n",
    "    numeros_ordenados = sorted(dados)\n",
    "    return numeros_ordenados"
   ]
  },
  {
   "cell_type": "code",
   "execution_count": 6,
   "id": "7f155274-7877-4af1-a81e-8234c9cbdce8",
   "metadata": {},
   "outputs": [],
   "source": [
    "# Definição da função saída:\n",
    "\n",
    "def saída_dados(x):\n",
    "    print(f'\\nA ordem dos números inseridos é {x}')"
   ]
  },
  {
   "cell_type": "code",
   "execution_count": 7,
   "id": "fb5c2334-e0e7-4a19-bc51-2de798e9aff9",
   "metadata": {},
   "outputs": [],
   "source": [
    "# Definição da função principal:\n",
    "\n",
    "def main():\n",
    "    dados = entrada_dados()\n",
    "    numeros = (dados[0], dados[1], dados[2])\n",
    "    numeros_ordenados = sorted(numeros)\n",
    "    saída_dados(numeros_ordenados)"
   ]
  },
  {
   "cell_type": "code",
   "execution_count": 8,
   "id": "0fb08b05-90ef-47b6-aca0-f0745fc4b45e",
   "metadata": {},
   "outputs": [
    {
     "name": "stdin",
     "output_type": "stream",
     "text": [
      "\n",
      "Digite a parcela 1:  4\n",
      "\n",
      "Digite a parcela 2:  2\n",
      "\n",
      "Digite a parcela 3:  8\n"
     ]
    },
    {
     "name": "stdout",
     "output_type": "stream",
     "text": [
      "\n",
      "A ordem dos números inseridos é [2.0, 4.0, 8.0]\n"
     ]
    }
   ],
   "source": [
    "# Execução da função\n",
    "\n",
    "main()"
   ]
  },
  {
   "cell_type": "code",
   "execution_count": null,
   "id": "51a5636d-35de-45a8-ae5c-441ab51b1943",
   "metadata": {},
   "outputs": [],
   "source": []
  }
 ],
 "metadata": {
  "kernelspec": {
   "display_name": "Python 3 (ipykernel)",
   "language": "python",
   "name": "python3"
  },
  "language_info": {
   "codemirror_mode": {
    "name": "ipython",
    "version": 3
   },
   "file_extension": ".py",
   "mimetype": "text/x-python",
   "name": "python",
   "nbconvert_exporter": "python",
   "pygments_lexer": "ipython3",
   "version": "3.11.7"
  }
 },
 "nbformat": 4,
 "nbformat_minor": 5
}

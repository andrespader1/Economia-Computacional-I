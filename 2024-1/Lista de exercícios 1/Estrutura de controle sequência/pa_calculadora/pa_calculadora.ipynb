{
 "cells": [
  {
   "cell_type": "markdown",
   "id": "497a9dfa-3853-4883-8560-b48b408fac83",
   "metadata": {},
   "source": [
    "# Codificação do programa 'Calculadora Progressão Artimética'"
   ]
  },
  {
   "cell_type": "markdown",
   "id": "936a042c-acac-4696-83bd-936c53f2f891",
   "metadata": {},
   "source": [
    "## Requisitos:\n",
    "Determinar o n-ésimo termo e a soma dos termos de uma progressão aritmética onde n, primeiro termo e a razão são dados pelo usuário."
   ]
  },
  {
   "cell_type": "code",
   "execution_count": 5,
   "id": "e31421e1-ea78-4ad4-b8e7-b9c2895ab417",
   "metadata": {},
   "outputs": [
    {
     "name": "stdin",
     "output_type": "stream",
     "text": [
      "\n",
      "Digite o primeiro termo: \n",
      " 2\n",
      "\n",
      "Digite qual termo deseja encontrar: \n",
      " 3\n",
      "\n",
      "Digite a razão da PA: \n",
      " 2\n"
     ]
    },
    {
     "name": "stdout",
     "output_type": "stream",
     "text": [
      "\n",
      "O 3º termo da progressão aritmética é 6.0.\n",
      "A soma dos termos da progressão aritmética no 3º termo é 12.0. \n",
      "\n"
     ]
    }
   ],
   "source": [
    "# Alocação de memória\n",
    "\n",
    "a1 = 0\n",
    "n = 0\n",
    "r = 0\n",
    "\n",
    "# Entrada de dados\n",
    "\n",
    "a1 = float(input(\"\\nDigite o primeiro termo: \\n\"))\n",
    "n = int(input(\"\\nDigite qual termo deseja encontrar: \\n\"))\n",
    "r = float(input(\"\\nDigite a razão da PA: \\n\"))\n",
    "\n",
    "# Processamento de dados\n",
    "\n",
    "n_1 = n - 1\n",
    "an = n_1 * r + a1\n",
    "\n",
    "sn = n/2 * (a1 + an)\n",
    "\n",
    "# Saída de dados\n",
    "\n",
    "print(f\"\\nO {n}º termo da progressão aritmética é {an}.\")\n",
    "print(f\"A soma dos termos da progressão aritmética no {n}º termo é {sn}. \\n\")"
   ]
  },
  {
   "cell_type": "code",
   "execution_count": null,
   "id": "c10dfa50-830d-4a74-83f2-f421776be54e",
   "metadata": {},
   "outputs": [],
   "source": []
  }
 ],
 "metadata": {
  "kernelspec": {
   "display_name": "Python 3 (ipykernel)",
   "language": "python",
   "name": "python3"
  },
  "language_info": {
   "codemirror_mode": {
    "name": "ipython",
    "version": 3
   },
   "file_extension": ".py",
   "mimetype": "text/x-python",
   "name": "python",
   "nbconvert_exporter": "python",
   "pygments_lexer": "ipython3",
   "version": "3.11.7"
  }
 },
 "nbformat": 4,
 "nbformat_minor": 5
}

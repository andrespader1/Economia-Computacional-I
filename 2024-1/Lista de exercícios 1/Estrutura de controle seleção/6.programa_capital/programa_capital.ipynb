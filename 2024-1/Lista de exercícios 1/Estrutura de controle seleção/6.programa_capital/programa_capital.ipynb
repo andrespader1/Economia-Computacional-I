{
 "cells": [
  {
   "cell_type": "markdown",
   "id": "e4f4d8db-6c41-480c-8057-fd071d33ea95",
   "metadata": {},
   "source": [
    "# Programa 'Capital'"
   ]
  },
  {
   "cell_type": "markdown",
   "id": "2bf5cc7f-82c6-4190-b012-0ae1c6859094",
   "metadata": {},
   "source": [
    "## Requisitos:\n",
    "Este programa lê um texto e informa se ele é o nome da capital de um estado da região sul do Brasil."
   ]
  },
  {
   "cell_type": "code",
   "execution_count": 24,
   "id": "22c78f91-b27b-4099-97f9-4d8c087d1ac5",
   "metadata": {},
   "outputs": [],
   "source": [
    "# Alocação de dados:\n",
    "nomes_a_verificar = \"\""
   ]
  },
  {
   "cell_type": "code",
   "execution_count": 43,
   "id": "a8548910-ecce-429a-b544-8d419f0b0ad4",
   "metadata": {},
   "outputs": [
    {
     "name": "stdin",
     "output_type": "stream",
     "text": [
      "\n",
      "Digite o nome da cidade: \n",
      " curitiba\n"
     ]
    }
   ],
   "source": [
    "# Entrada de dados:\n",
    "nome_a_verificar = input(\"\\nDigite o nome da cidade: \\n\")"
   ]
  },
  {
   "cell_type": "code",
   "execution_count": 44,
   "id": "effb8c8a-fe2f-4f57-b90b-4374ac8f5225",
   "metadata": {},
   "outputs": [
    {
     "name": "stdout",
     "output_type": "stream",
     "text": [
      "\n",
      "Curitiba é capital do Paraná. \n",
      "\n"
     ]
    }
   ],
   "source": [
    "# Processamento de dados:\n",
    "if nome_a_verificar in [\"Porto Alegre\", \"porto alegre\", \"portoalegre\"]:\n",
    "    print(f'\\nPorto Alegre é capital do Rio Grande do Sul. \\n')\n",
    "elif nome_a_verificar in [\"Florianópolis\", \"florianopolis\", \"Florianopolis\", \"florianopolis\"]:\n",
    "    print(f'\\nFlorianópolis é capital de Santa Catarina. \\n')\n",
    "elif nome_a_verificar in [\"Curitiba\", \"curitiba\"]:\n",
    "    print(f'\\nCuritiba é capital do Paraná. \\n')\n",
    "else:\n",
    "    print(f'\\n{nome_a_verificar} não é capital de nenhum estado do Sul. \\n')"
   ]
  },
  {
   "cell_type": "code",
   "execution_count": null,
   "id": "a4f5dac4-683f-4eed-aa1f-3b084bccb25a",
   "metadata": {},
   "outputs": [],
   "source": []
  }
 ],
 "metadata": {
  "kernelspec": {
   "display_name": "Python 3 (ipykernel)",
   "language": "python",
   "name": "python3"
  },
  "language_info": {
   "codemirror_mode": {
    "name": "ipython",
    "version": 3
   },
   "file_extension": ".py",
   "mimetype": "text/x-python",
   "name": "python",
   "nbconvert_exporter": "python",
   "pygments_lexer": "ipython3",
   "version": "3.11.7"
  }
 },
 "nbformat": 4,
 "nbformat_minor": 5
}

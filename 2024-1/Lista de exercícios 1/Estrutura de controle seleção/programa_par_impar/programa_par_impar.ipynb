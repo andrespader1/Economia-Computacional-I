{
 "cells": [
  {
   "cell_type": "markdown",
   "id": "0b138deb-b286-4730-9c90-76b48728bd60",
   "metadata": {},
   "source": [
    "## Programa 'Par / Impar'"
   ]
  },
  {
   "cell_type": "markdown",
   "id": "ec4f9003-a73c-43ee-b066-efa359f5f6bf",
   "metadata": {},
   "source": [
    "## Requisitos:\n",
    "\n",
    "Ler um número e imprima na tela a mensagem \"O número é par.” se o número lido for\n",
    "par e \"O número é impar” se o número lido for ímpar. Em caso de número não inteiros\n",
    "ou negativos, imprimir na tela \"Este número não é válido.”"
   ]
  },
  {
   "cell_type": "code",
   "execution_count": null,
   "id": "8ffb7576-bf01-4f43-9828-22b957d6cf9c",
   "metadata": {},
   "outputs": [],
   "source": [
    "# Alocação de memória:\n",
    "\n",
    "numero = 0"
   ]
  },
  {
   "cell_type": "code",
   "execution_count": null,
   "id": "9ffcd3d7-af76-4717-85cb-c98fdd296a50",
   "metadata": {},
   "outputs": [],
   "source": [
    "# Entrada de dados:\n",
    "\n",
    "numero = float(input(\"\\nDigite o número: \\n\"))"
   ]
  },
  {
   "cell_type": "code",
   "execution_count": null,
   "id": "eecf8c45-c6b8-44d0-b95d-e2e9069bb21b",
   "metadata": {},
   "outputs": [],
   "source": [
    "# Processamento e saída de dados:\n",
    "\n",
    "if numero.is_integer():\n",
    "    numero = int(numero)\n",
    "\n",
    "    if numero % 2 == 0:\n",
    "        print(\"\\nO número é par. \\n\")\n",
    "    else:\n",
    "        print(\"\\nO número é impar. \\n\")\n",
    "\n",
    "else:\n",
    "    print(\"\\nO número não é válido. \\n\")"
   ]
  },
  {
   "cell_type": "code",
   "execution_count": null,
   "id": "10e81afb-eb0b-4809-8c59-5db0c45088c4",
   "metadata": {},
   "outputs": [],
   "source": []
  },
  {
   "cell_type": "code",
   "execution_count": null,
   "id": "b8dde721-ae7b-4203-8b0d-2de69078a61b",
   "metadata": {},
   "outputs": [],
   "source": []
  }
 ],
 "metadata": {
  "kernelspec": {
   "display_name": "Python 3 (ipykernel)",
   "language": "python",
   "name": "python3"
  },
  "language_info": {
   "codemirror_mode": {
    "name": "ipython",
    "version": 3
   },
   "file_extension": ".py",
   "mimetype": "text/x-python",
   "name": "python",
   "nbconvert_exporter": "python",
   "pygments_lexer": "ipython3",
   "version": "3.11.7"
  }
 },
 "nbformat": 4,
 "nbformat_minor": 5
}

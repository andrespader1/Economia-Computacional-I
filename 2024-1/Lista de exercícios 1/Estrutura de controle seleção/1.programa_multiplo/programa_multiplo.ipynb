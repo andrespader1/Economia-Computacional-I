{
 "cells": [
  {
   "cell_type": "markdown",
   "id": "89b88498-96b4-4786-8dcf-b26cd979410a",
   "metadata": {},
   "source": [
    "## Programa 'Múltiplo'"
   ]
  },
  {
   "cell_type": "markdown",
   "id": "757613d0-f91f-4f85-8c93-52950ef609ba",
   "metadata": {},
   "source": [
    "## Requisitos:\n",
    "\n",
    "Ler um número e imprimir na tela o seu dobro se ele for menor do que 10. Se o número\n",
    "for de 10 até 20, imprimir a sua metade. Em qualquer outro caso, imprimir na tela que o\n",
    "número não é válido."
   ]
  },
  {
   "cell_type": "code",
   "execution_count": 10,
   "id": "9cc0e581-4f7b-499a-8a8e-b7d1c3761053",
   "metadata": {},
   "outputs": [],
   "source": [
    "# Alocação de memória:\n",
    "\n",
    "número = 0"
   ]
  },
  {
   "cell_type": "code",
   "execution_count": 13,
   "id": "46dedada-0f8b-400c-858a-b25d00ccb19f",
   "metadata": {},
   "outputs": [
    {
     "name": "stdin",
     "output_type": "stream",
     "text": [
      "\n",
      "Digite o número:  9\n"
     ]
    }
   ],
   "source": [
    "# Entrada de dados:\n",
    "\n",
    "numero = float(input(\"\\nDigite o número: \"))"
   ]
  },
  {
   "cell_type": "code",
   "execution_count": 15,
   "id": "4cc0a329-3bb8-4f7c-bb33-30fe22f93bd4",
   "metadata": {},
   "outputs": [
    {
     "name": "stdout",
     "output_type": "stream",
     "text": [
      "18.0\n"
     ]
    }
   ],
   "source": [
    "# Processamento e saída de dados:\n",
    "\n",
    "if numero < 10:\n",
    "    print(f'{numero * 2}')\n",
    "elif numero >= 10 and numero <= 20:\n",
    "    print(f'{numero / 2}')\n",
    "else:\n",
    "    print(\"\\nEste número não é válido.\")"
   ]
  },
  {
   "cell_type": "code",
   "execution_count": null,
   "id": "938fc987-7978-41f7-b884-22def067063c",
   "metadata": {},
   "outputs": [],
   "source": []
  }
 ],
 "metadata": {
  "kernelspec": {
   "display_name": "Python 3 (ipykernel)",
   "language": "python",
   "name": "python3"
  },
  "language_info": {
   "codemirror_mode": {
    "name": "ipython",
    "version": 3
   },
   "file_extension": ".py",
   "mimetype": "text/x-python",
   "name": "python",
   "nbconvert_exporter": "python",
   "pygments_lexer": "ipython3",
   "version": "3.11.7"
  }
 },
 "nbformat": 4,
 "nbformat_minor": 5
}

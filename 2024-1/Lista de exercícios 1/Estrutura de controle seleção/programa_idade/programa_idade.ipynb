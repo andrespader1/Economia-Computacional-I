{
 "cells": [
  {
   "cell_type": "markdown",
   "id": "4a5b9700-43bf-43f6-8b8a-9046dfc83647",
   "metadata": {},
   "source": [
    "# Programa 'Idade'"
   ]
  },
  {
   "cell_type": "markdown",
   "id": "53d153a7-2f75-491e-b5b0-b85a0120dea3",
   "metadata": {},
   "source": [
    "## Requisitos\n",
    "Este programa lê o nome e a idade de uma pessoa. Se a pessoa tiver menos de 18 anos, imprime\n",
    "\"[nome] não pode assistir a este filme.”, onde no lugar de [nome] deve sair o nome lido do\n",
    "teclado."
   ]
  },
  {
   "cell_type": "code",
   "execution_count": 1,
   "id": "0200ae4b-46de-49b3-a74c-aa790fe193ff",
   "metadata": {},
   "outputs": [],
   "source": [
    "# Alocação de memória:\n",
    "\n",
    "nome = \"\"\n",
    "idade = 0"
   ]
  },
  {
   "cell_type": "code",
   "execution_count": 6,
   "id": "d0e382bd-c6ee-4a43-9a55-b6b166135314",
   "metadata": {},
   "outputs": [
    {
     "name": "stdin",
     "output_type": "stream",
     "text": [
      "\n",
      "Digite o nome da pessoa: \n",
      " André\n",
      "\n",
      "Digite a idade: \n",
      " 20\n"
     ]
    }
   ],
   "source": [
    "# Entrada de dados:\n",
    "\n",
    "nome = input(\"\\nDigite o nome da pessoa: \\n\")\n",
    "idade = int(input(\"\\nDigite a idade: \\n\"))"
   ]
  },
  {
   "cell_type": "code",
   "execution_count": 7,
   "id": "1eb23b9b-f591-4a33-9545-3db8fddbd867",
   "metadata": {},
   "outputs": [
    {
     "name": "stdout",
     "output_type": "stream",
     "text": [
      "\n",
      "André pode assistir a esse filme. \n",
      "\n"
     ]
    }
   ],
   "source": [
    "# Processamento e saída de dados:\n",
    "\n",
    "if idade < 18:\n",
    "    print(f'\\n{nome} não pode assistir a esse filme. \\n')\n",
    "\n",
    "else:\n",
    "    print(f'\\n{nome} pode assistir a esse filme. \\n')"
   ]
  },
  {
   "cell_type": "code",
   "execution_count": null,
   "id": "3d829365-0c1b-4d1e-90bb-ae3de7e40ad8",
   "metadata": {},
   "outputs": [],
   "source": []
  }
 ],
 "metadata": {
  "kernelspec": {
   "display_name": "Python 3 (ipykernel)",
   "language": "python",
   "name": "python3"
  },
  "language_info": {
   "codemirror_mode": {
    "name": "ipython",
    "version": 3
   },
   "file_extension": ".py",
   "mimetype": "text/x-python",
   "name": "python",
   "nbconvert_exporter": "python",
   "pygments_lexer": "ipython3",
   "version": "3.11.7"
  }
 },
 "nbformat": 4,
 "nbformat_minor": 5
}

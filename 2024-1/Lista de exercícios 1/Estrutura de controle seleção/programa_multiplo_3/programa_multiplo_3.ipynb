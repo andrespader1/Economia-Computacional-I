{
 "cells": [
  {
   "cell_type": "markdown",
   "id": "388a78f2-056b-4db8-9ed6-be0cb04dd417",
   "metadata": {},
   "source": [
    "# Programa 'Múltiplo_3'"
   ]
  },
  {
   "cell_type": "markdown",
   "id": "6ff81666-95ed-45b2-9e46-ba7431dd3c5c",
   "metadata": {},
   "source": [
    "## Requisitos:\n",
    "Este programa lê um número, determina se ele é múltiplo de 3 e imprime na tela a mensagem \"Este\n",
    "número é múltiplo de 3\" ou \"Este número não é múltiplo de 3” a depender do caso."
   ]
  },
  {
   "cell_type": "code",
   "execution_count": 1,
   "id": "718ada00-fe41-4c06-a713-ac9cbcefa5fe",
   "metadata": {},
   "outputs": [],
   "source": [
    "# Alocação de memória:\n",
    "\n",
    "numero = 0"
   ]
  },
  {
   "cell_type": "code",
   "execution_count": 9,
   "id": "4a682c08-2d0b-455e-b7ef-7de5d9290536",
   "metadata": {},
   "outputs": [
    {
     "name": "stdin",
     "output_type": "stream",
     "text": [
      "\n",
      "Digite o número:  5.5\n"
     ]
    }
   ],
   "source": [
    "# Entrada de dados:\n",
    "\n",
    "numero = float(input(\"\\nDigite o número: \"))"
   ]
  },
  {
   "cell_type": "code",
   "execution_count": 10,
   "id": "954f173c-eb4c-4c89-a0a7-12b70691c58b",
   "metadata": {},
   "outputs": [
    {
     "name": "stdout",
     "output_type": "stream",
     "text": [
      "\n",
      "Este número não é um inteiro válido múltiplo de 3. \n",
      "\n"
     ]
    }
   ],
   "source": [
    "# Processamento e saída de dados:\n",
    "\n",
    "if numero.is_integer():\n",
    "    numero = int(numero)\n",
    "\n",
    "    if numero % 3 == 0:\n",
    "        print(\"\\nEste número é múltiplo de 3. \\n\")\n",
    "    else:\n",
    "        print(\"\\nEste número não é múltiplo de 3. \\n\")\n",
    "\n",
    "else:\n",
    "    print(\"\\nEste número não é um inteiro válido múltiplo de 3. \\n\")"
   ]
  },
  {
   "cell_type": "code",
   "execution_count": null,
   "id": "af7cc162-8bf9-42b9-8823-c676ab76d878",
   "metadata": {},
   "outputs": [],
   "source": []
  }
 ],
 "metadata": {
  "kernelspec": {
   "display_name": "Python 3 (ipykernel)",
   "language": "python",
   "name": "python3"
  },
  "language_info": {
   "codemirror_mode": {
    "name": "ipython",
    "version": 3
   },
   "file_extension": ".py",
   "mimetype": "text/x-python",
   "name": "python",
   "nbconvert_exporter": "python",
   "pygments_lexer": "ipython3",
   "version": "3.11.7"
  }
 },
 "nbformat": 4,
 "nbformat_minor": 5
}

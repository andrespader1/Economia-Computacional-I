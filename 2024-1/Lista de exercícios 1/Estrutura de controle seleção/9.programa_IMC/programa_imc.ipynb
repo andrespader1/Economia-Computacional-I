{
 "cells": [
  {
   "cell_type": "markdown",
   "id": "546202a0-98da-41ea-b813-1823f9e1911a",
   "metadata": {},
   "source": [
    "# Programa 'IMC'"
   ]
  },
  {
   "cell_type": "markdown",
   "id": "052f3398-3794-46bd-be77-40a6794ed74d",
   "metadata": {},
   "source": [
    "## Requisitos:\n",
    "Este programa lê o peso e a altura de uma pessoa, calcula seu índice de massa corporal (IMC), classifique essa pessoa de acordo com a tabela abaixo e escreva na tela a condição da pessoa."
   ]
  },
  {
   "cell_type": "code",
   "execution_count": 2,
   "id": "97252f55-543d-4992-8f33-6957018afda9",
   "metadata": {},
   "outputs": [],
   "source": [
    "# Alocação de memória:\n",
    "peso = 0\n",
    "altura = 0\n",
    "imc_round = 0"
   ]
  },
  {
   "cell_type": "code",
   "execution_count": 3,
   "id": "83f15f42-804f-4363-ae8e-b561621aadd8",
   "metadata": {},
   "outputs": [
    {
     "name": "stdin",
     "output_type": "stream",
     "text": [
      "\n",
      "Digite o peso em quilogramas: \n",
      " 75\n",
      "\n",
      "Digite a altura em metros: \n",
      " 1.74\n"
     ]
    }
   ],
   "source": [
    "# Entrada de dados:\n",
    "peso = float(input(\"\\nDigite o peso em quilogramas: \\n\"))\n",
    "altura = float(input(\"\\nDigite a altura em metros: \\n\"))"
   ]
  },
  {
   "cell_type": "code",
   "execution_count": 7,
   "id": "397f3c62-9d64-4ecc-bd89-dac61da5bceb",
   "metadata": {},
   "outputs": [
    {
     "name": "stdout",
     "output_type": "stream",
     "text": [
      "\n",
      "O IMC para os dados inseridos é de 24.8. A pessoa está com peso normal. \n",
      "\n"
     ]
    }
   ],
   "source": [
    "# Processamento e saída de dados:\n",
    "imc = peso / (altura * altura)\n",
    "imc_round = round(imc, 1)\n",
    "\n",
    "if imc_round <= 18.5:\n",
    "    print(f'\\nO IMC para os dados inseridos é de {imc_round}. A pessoa está excessivamente magra. \\n')\n",
    "\n",
    "elif imc_round > 18.5 and imc_round <= 25:\n",
    "    print(f'\\nO IMC para os dados inseridos é de {imc_round}. A pessoa está com peso normal. \\n')\n",
    "\n",
    "elif imc_round > 25 and imc_round <= 30:\n",
    "    print(f'\\nO IMC para os dados inseridos é de {imc_round}. A pessoa está com sobrepeso. \\n')\n",
    "\n",
    "else:\n",
    "    print(f'\\nO IMC para os dados inseridos é de {imc_round}. A pessoa está obesa. \\n')"
   ]
  },
  {
   "cell_type": "code",
   "execution_count": null,
   "id": "aa1e06dd-6a62-4423-b407-df501c08965c",
   "metadata": {},
   "outputs": [],
   "source": []
  }
 ],
 "metadata": {
  "kernelspec": {
   "display_name": "Python 3 (ipykernel)",
   "language": "python",
   "name": "python3"
  },
  "language_info": {
   "codemirror_mode": {
    "name": "ipython",
    "version": 3
   },
   "file_extension": ".py",
   "mimetype": "text/x-python",
   "name": "python",
   "nbconvert_exporter": "python",
   "pygments_lexer": "ipython3",
   "version": "3.11.7"
  }
 },
 "nbformat": 4,
 "nbformat_minor": 5
}

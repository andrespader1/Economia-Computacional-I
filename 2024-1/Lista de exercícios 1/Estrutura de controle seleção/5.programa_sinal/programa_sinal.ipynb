{
 "cells": [
  {
   "cell_type": "markdown",
   "id": "7b3abcca-2f0a-46cc-ac46-f7d9847710d4",
   "metadata": {},
   "source": [
    "# Programa 'Sinal'"
   ]
  },
  {
   "cell_type": "markdown",
   "id": "9628883d-8669-4980-b219-fbb9909edc98",
   "metadata": {},
   "source": [
    "## Requisitos:\n",
    "Este programa lê um número e imprime na tela se ele é negativo, nulo ou positivo."
   ]
  },
  {
   "cell_type": "code",
   "execution_count": 1,
   "id": "b572ac73-dff2-44a3-85fe-7925d10dd12f",
   "metadata": {},
   "outputs": [],
   "source": [
    "# Alocação de dados:\n",
    "numero = 0"
   ]
  },
  {
   "cell_type": "code",
   "execution_count": 3,
   "id": "eb385739-5342-4969-9c4e-01897369a007",
   "metadata": {},
   "outputs": [
    {
     "name": "stdin",
     "output_type": "stream",
     "text": [
      "\n",
      "Digite o número: \n",
      " 8\n"
     ]
    }
   ],
   "source": [
    "# Entrada de dados:\n",
    "numero = float(input(\"\\nDigite o número: \\n\"))"
   ]
  },
  {
   "cell_type": "code",
   "execution_count": 4,
   "id": "5f2176cf-ebf0-447b-a921-e1d5936587c8",
   "metadata": {},
   "outputs": [
    {
     "name": "stdout",
     "output_type": "stream",
     "text": [
      "\n",
      "O número 8.0 é positivo. \n",
      "\n"
     ]
    }
   ],
   "source": [
    "# Processamemto de dados:\n",
    "if numero > 0:\n",
    "    print(f'\\nO número {numero} é positivo. \\n')\n",
    "elif numero < 0:\n",
    "    print(f'\\nO número {numero} é negativo. \\n')\n",
    "else:\n",
    "    print(f'\\nO número {numero} é nulo. \\n')"
   ]
  },
  {
   "cell_type": "code",
   "execution_count": null,
   "id": "bb2d3f6f-8629-48f3-ac09-e3cdf9c985b6",
   "metadata": {},
   "outputs": [],
   "source": []
  }
 ],
 "metadata": {
  "kernelspec": {
   "display_name": "Python 3 (ipykernel)",
   "language": "python",
   "name": "python3"
  },
  "language_info": {
   "codemirror_mode": {
    "name": "ipython",
    "version": 3
   },
   "file_extension": ".py",
   "mimetype": "text/x-python",
   "name": "python",
   "nbconvert_exporter": "python",
   "pygments_lexer": "ipython3",
   "version": "3.11.7"
  }
 },
 "nbformat": 4,
 "nbformat_minor": 5
}

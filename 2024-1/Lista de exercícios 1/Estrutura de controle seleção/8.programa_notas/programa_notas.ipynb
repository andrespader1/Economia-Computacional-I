{
 "cells": [
  {
   "cell_type": "markdown",
   "id": "c107638a-728d-4234-8bda-b8c82bf049d9",
   "metadata": {},
   "source": [
    "# Programa 'Notas'"
   ]
  },
  {
   "cell_type": "markdown",
   "id": "8d3d2109-3b2e-4bdd-b131-965cbb24c2e4",
   "metadata": {},
   "source": [
    "## Requisitos\n",
    "Este programa solicita as notas de um aluno nas avaliações previstas no plano de ensino desta disciplina, calcula a sua média e informe se o aluno está aprovado ou reprovado com base nas notas obtidas, incluindo a recuperação."
   ]
  },
  {
   "cell_type": "code",
   "execution_count": 5,
   "id": "be6606bf-8c44-4952-9043-243b2138c256",
   "metadata": {},
   "outputs": [],
   "source": [
    "# Alocação de memória\n",
    "teste_1 = 0\n",
    "teste_2 = 0\n",
    "prova_final = 0\n",
    "recuperacao = 0\n",
    "nota_round = 0\n",
    "media_final_round = 0"
   ]
  },
  {
   "cell_type": "code",
   "execution_count": 10,
   "id": "2ebbf8af-82b4-4716-90f2-10b826c2bf5f",
   "metadata": {},
   "outputs": [
    {
     "name": "stdin",
     "output_type": "stream",
     "text": [
      "\n",
      "Digite a nota do Teste 1: \n",
      " 3\n",
      "\n",
      "Digite a nota do Teste 2: \n",
      " 5\n",
      "\n",
      "Digite a nota da Prova Final: \n",
      " 5\n"
     ]
    }
   ],
   "source": [
    "# Entrada de dados inicial\n",
    "teste_1 = float(input(\"\\nDigite a nota do Teste 1: \\n\"))\n",
    "teste_2 = float(input(\"\\nDigite a nota do Teste 2: \\n\"))\n",
    "prova_final = float(input(\"\\nDigite a nota da Prova Final: \\n\"))"
   ]
  },
  {
   "cell_type": "code",
   "execution_count": 11,
   "id": "267a3589-f906-41fa-95a3-d16750db0776",
   "metadata": {},
   "outputs": [],
   "source": [
    "# 1º Processamento de dados\n",
    "teste_1_def = teste_1 * 0.15\n",
    "teste_2_def = teste_2 * 0.15\n",
    "prova_final_def = prova_final * 0.7\n",
    "nota_final = teste_1_def + teste_2_def + prova_final_def\n",
    "nota_round = round(nota_final, 1)"
   ]
  },
  {
   "cell_type": "code",
   "execution_count": 18,
   "id": "e96a334d-0de8-4d72-9265-fdcac509f6c8",
   "metadata": {},
   "outputs": [
    {
     "name": "stdin",
     "output_type": "stream",
     "text": [
      "\n",
      "Digite a nota de recuperação: \n",
      " 6\n"
     ]
    },
    {
     "name": "stdout",
     "output_type": "stream",
     "text": [
      "\n",
      "O aluno está REPROVADO com média final 5.5. \n",
      "\n"
     ]
    }
   ],
   "source": [
    "# 2º Processamento de dados\n",
    "if nota_round >= 6:\n",
    "    print(f'\\nO aluno está APROVADO com média final {nota_round}. \\n')\n",
    "\n",
    "elif nota_round < 6:\n",
    "    recuperacao = float(input(\"\\nDigite a nota de recuperação: \\n\"))\n",
    "    media_final = (3 * recuperacao + 2 * nota_round) / 5\n",
    "    media_final_round = round(media_final, 1)\n",
    "    \n",
    "    if media_final_round >= 6:\n",
    "            print(f'\\nO aluno está APROVADO com média final {media_final_round}. \\n')\n",
    "    else:\n",
    "            print(f'\\nO aluno está REPROVADO com média final {media_final_round}. \\n')\n",
    "else:\n",
    "    print(\"\\nOs valores computados são inválidos. \\n\")"
   ]
  },
  {
   "cell_type": "code",
   "execution_count": null,
   "id": "4663289f-355f-4aa8-98b6-8ed0095272bf",
   "metadata": {},
   "outputs": [],
   "source": []
  }
 ],
 "metadata": {
  "kernelspec": {
   "display_name": "Python 3 (ipykernel)",
   "language": "python",
   "name": "python3"
  },
  "language_info": {
   "codemirror_mode": {
    "name": "ipython",
    "version": 3
   },
   "file_extension": ".py",
   "mimetype": "text/x-python",
   "name": "python",
   "nbconvert_exporter": "python",
   "pygments_lexer": "ipython3",
   "version": "3.11.7"
  }
 },
 "nbformat": 4,
 "nbformat_minor": 5
}

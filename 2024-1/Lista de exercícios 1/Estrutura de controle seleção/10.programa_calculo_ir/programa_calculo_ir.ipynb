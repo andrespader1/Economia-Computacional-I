{
 "cells": [
  {
   "cell_type": "markdown",
   "id": "302ee170-f4f0-4746-8600-5c31e73fe7a4",
   "metadata": {},
   "source": [
    "# Programa 'Cálculo IR'"
   ]
  },
  {
   "cell_type": "markdown",
   "id": "4fb0e894-e083-4c66-864b-213ffa334e87",
   "metadata": {},
   "source": [
    "## Requisitos\n",
    "Dado o número de horas trabalhadas por um empregado de uma empresa que paga R$ 20,00 por hora trabalhada e desconta imposto de renda (IR), este programa\n",
    "determina o salário líquido do empregado."
   ]
  },
  {
   "cell_type": "code",
   "execution_count": 2,
   "id": "0371db5e-506c-481d-89be-f948a4d7c3cd",
   "metadata": {},
   "outputs": [],
   "source": [
    "# Alocação de memória:\n",
    "horas = 0\n",
    "salario_bruto = 0\n",
    "salario_liquido_round = 0"
   ]
  },
  {
   "cell_type": "code",
   "execution_count": 15,
   "id": "07daf309-2bf7-4b35-8e2b-e134904658af",
   "metadata": {},
   "outputs": [
    {
     "name": "stdin",
     "output_type": "stream",
     "text": [
      "\n",
      "Digite o número de horas trabalhadas: \n",
      " 30\n"
     ]
    }
   ],
   "source": [
    "# Entrada de dados:\n",
    "horas = int(input(\"\\nDigite o número de horas trabalhadas: \\n\"))"
   ]
  },
  {
   "cell_type": "code",
   "execution_count": 16,
   "id": "a4a61f35-f455-46d3-8c5a-36b13c5f62f8",
   "metadata": {},
   "outputs": [
    {
     "name": "stdout",
     "output_type": "stream",
     "text": [
      "\n",
      "O salário líquido do funcionário é de R$600.00. \n",
      "\n"
     ]
    }
   ],
   "source": [
    "# Processamento de dados:\n",
    "salario_bruto = horas * 20\n",
    "\n",
    "if salario_bruto <= 1000:\n",
    "    salario_liquido_round = f\"{salario_bruto:.2f}\"\n",
    "    print(f'\\nO salário líquido do funcionário é de R${salario_liquido_round}. \\n')\n",
    "\n",
    "elif salario_bruto > 1000 and salario_bruto <= 2500:\n",
    "    salario_liquido = salario_bruto * 0.9\n",
    "    salario_liquido_round = f\"{salario_liquido:.2f}\"\n",
    "    print(f'\\nO salário líquido do funcionário é de R${salario_liquido_round}. \\n')\n",
    "\n",
    "elif salario_bruto > 2500 and salario_bruto <= 5000:\n",
    "    salario_liquido = salario_bruto * 0.8\n",
    "    salario_liquido_round = f\"{salario_liquido:.2f}\"\n",
    "    print(f'\\nO salário líquido do funcionário é de R${salario_liquido_round}. \\n')\n",
    "\n",
    "else:\n",
    "    salario_liquido = salario_bruto * 0.65\n",
    "    salario_liquido_round = f\"{salario_liquido:.2f}\"\n",
    "    print(f'\\nO salário líquido do funcionário é de R${salario_liquido_round}. \\n')"
   ]
  },
  {
   "cell_type": "code",
   "execution_count": null,
   "id": "6f779bd9-5846-49aa-a202-b501bfd8a373",
   "metadata": {},
   "outputs": [],
   "source": []
  }
 ],
 "metadata": {
  "kernelspec": {
   "display_name": "Python 3 (ipykernel)",
   "language": "python",
   "name": "python3"
  },
  "language_info": {
   "codemirror_mode": {
    "name": "ipython",
    "version": 3
   },
   "file_extension": ".py",
   "mimetype": "text/x-python",
   "name": "python",
   "nbconvert_exporter": "python",
   "pygments_lexer": "ipython3",
   "version": "3.11.7"
  }
 },
 "nbformat": 4,
 "nbformat_minor": 5
}

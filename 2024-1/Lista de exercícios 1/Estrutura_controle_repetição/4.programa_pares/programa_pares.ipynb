{
 "cells": [
  {
   "cell_type": "markdown",
   "id": "94077673-5459-4037-aba1-1f1a124aaa0e",
   "metadata": {},
   "source": [
    "# Programa 'Pares'"
   ]
  },
  {
   "cell_type": "markdown",
   "id": "83b5d56d-ddb8-4ace-9112-9674a478f718",
   "metadata": {},
   "source": [
    "## Requisitos:\n",
    "Este programa imprime na tela todos os números pares entre 0 e 20."
   ]
  },
  {
   "cell_type": "code",
   "execution_count": 5,
   "id": "054fb59e-c10e-4c03-b9be-c42836e7b82a",
   "metadata": {},
   "outputs": [
    {
     "name": "stdout",
     "output_type": "stream",
     "text": [
      "0 2 4 6 8 10 12 14 16 18 20 "
     ]
    }
   ],
   "source": [
    "# Processamento e saída de dados:\n",
    "num = 0\n",
    "for num in range(21):\n",
    "    if num % 2 == 0:\n",
    "        print(num, end= ' ')"
   ]
  },
  {
   "cell_type": "code",
   "execution_count": null,
   "id": "ce3821a1-3a5f-4264-9f73-4ebb2ec66876",
   "metadata": {},
   "outputs": [],
   "source": []
  }
 ],
 "metadata": {
  "kernelspec": {
   "display_name": "Python 3 (ipykernel)",
   "language": "python",
   "name": "python3"
  },
  "language_info": {
   "codemirror_mode": {
    "name": "ipython",
    "version": 3
   },
   "file_extension": ".py",
   "mimetype": "text/x-python",
   "name": "python",
   "nbconvert_exporter": "python",
   "pygments_lexer": "ipython3",
   "version": "3.11.7"
  }
 },
 "nbformat": 4,
 "nbformat_minor": 5
}

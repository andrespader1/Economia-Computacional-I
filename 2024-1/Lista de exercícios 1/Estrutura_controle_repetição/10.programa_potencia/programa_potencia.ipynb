{
 "cells": [
  {
   "cell_type": "markdown",
   "id": "0ca48c5b-c87a-455e-9445-af62262260ef",
   "metadata": {},
   "source": [
    "# Programa 'Potência'"
   ]
  },
  {
   "cell_type": "markdown",
   "id": "d51ef57d-8f44-4393-894d-e0604c5129ea",
   "metadata": {},
   "source": [
    "## Requisitos:\n",
    "Este programa lê dois números 'a' e 'b' e calcule a potência de 'a' em 'b' sem utilizar uma função nativa do Python."
   ]
  },
  {
   "cell_type": "code",
   "execution_count": 1,
   "id": "44ec416b-fc05-4aaa-8d8b-c2f58d80abe8",
   "metadata": {},
   "outputs": [],
   "source": [
    "# Alocação de memória:\n",
    "a = 0\n",
    "b = 0"
   ]
  },
  {
   "cell_type": "code",
   "execution_count": 2,
   "id": "c7ea2b23-e32d-4180-a316-456d04ef158a",
   "metadata": {},
   "outputs": [
    {
     "name": "stdin",
     "output_type": "stream",
     "text": [
      "\n",
      "Digite o número base: \n",
      " 4\n",
      "\n",
      "Digite o expoente: \n",
      " 3\n"
     ]
    }
   ],
   "source": [
    "# Entrada de dados:\n",
    "a = float(input(\"\\nDigite o número base: \\n\"))\n",
    "b = float(input(\"\\nDigite o expoente: \\n\"))"
   ]
  },
  {
   "cell_type": "code",
   "execution_count": 3,
   "id": "b6366fbd-a58e-4c1a-89ac-ef30a2085450",
   "metadata": {},
   "outputs": [],
   "source": [
    "# Processamento de dados:\n",
    "resultado = a ** b"
   ]
  },
  {
   "cell_type": "code",
   "execution_count": 4,
   "id": "0e47e422-488f-4b99-bca1-0033d7984a38",
   "metadata": {},
   "outputs": [
    {
     "name": "stdout",
     "output_type": "stream",
     "text": [
      "\n",
      "O resultado da potência de base 4.0 e expoente 3.0 é 64.0. \n",
      "\n"
     ]
    }
   ],
   "source": [
    "# Saída de dados:\n",
    "print(f'\\nO resultado da potência de base {a} e expoente {b} é {resultado}. \\n')"
   ]
  },
  {
   "cell_type": "code",
   "execution_count": null,
   "id": "750865f2-3035-4f87-8952-626d9dc1882f",
   "metadata": {},
   "outputs": [],
   "source": []
  }
 ],
 "metadata": {
  "kernelspec": {
   "display_name": "Python 3 (ipykernel)",
   "language": "python",
   "name": "python3"
  },
  "language_info": {
   "codemirror_mode": {
    "name": "ipython",
    "version": 3
   },
   "file_extension": ".py",
   "mimetype": "text/x-python",
   "name": "python",
   "nbconvert_exporter": "python",
   "pygments_lexer": "ipython3",
   "version": "3.11.7"
  }
 },
 "nbformat": 4,
 "nbformat_minor": 5
}

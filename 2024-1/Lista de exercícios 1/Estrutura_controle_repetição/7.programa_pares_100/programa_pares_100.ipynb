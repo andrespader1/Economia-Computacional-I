{
 "cells": [
  {
   "cell_type": "markdown",
   "id": "3b711ef1-87d4-443f-b15f-29114ba40d52",
   "metadata": {},
   "source": [
    "# Programa 'Pares 100'"
   ]
  },
  {
   "cell_type": "markdown",
   "id": "f3aaf194-ca69-43b5-abb6-19fcb8e17889",
   "metadata": {},
   "source": [
    "## Requisitos:\n",
    "Este programa imprime na tela todos os números pares de 0 a 100."
   ]
  },
  {
   "cell_type": "code",
   "execution_count": 2,
   "id": "767c657a-d0af-4d01-b4c0-74d5cedf27c5",
   "metadata": {},
   "outputs": [
    {
     "name": "stdout",
     "output_type": "stream",
     "text": [
      "0 2 4 6 8 10 12 14 16 18 20 22 24 26 28 30 32 34 36 38 40 42 44 46 48 50 52 54 56 58 60 62 64 66 68 70 72 74 76 78 80 82 84 86 88 90 92 94 96 98 100 "
     ]
    }
   ],
   "source": [
    "# Processamento e saída de dados:\n",
    "num = 0\n",
    "for num in range(101):\n",
    "    if num % 2 == 0:\n",
    "        print(num, end= ' ')"
   ]
  },
  {
   "cell_type": "code",
   "execution_count": null,
   "id": "354ce326-6846-4f09-9c2e-72f4a9016d45",
   "metadata": {},
   "outputs": [],
   "source": []
  }
 ],
 "metadata": {
  "kernelspec": {
   "display_name": "Python 3 (ipykernel)",
   "language": "python",
   "name": "python3"
  },
  "language_info": {
   "codemirror_mode": {
    "name": "ipython",
    "version": 3
   },
   "file_extension": ".py",
   "mimetype": "text/x-python",
   "name": "python",
   "nbconvert_exporter": "python",
   "pygments_lexer": "ipython3",
   "version": "3.11.7"
  }
 },
 "nbformat": 4,
 "nbformat_minor": 5
}

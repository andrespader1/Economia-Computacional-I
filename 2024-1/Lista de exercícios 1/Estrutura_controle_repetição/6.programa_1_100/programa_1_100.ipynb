{
 "cells": [
  {
   "cell_type": "markdown",
   "id": "688d7ba3-9a02-4e09-a994-3f60653be9c8",
   "metadata": {},
   "source": [
    "# Programa '1 a 100'"
   ]
  },
  {
   "cell_type": "markdown",
   "id": "ebc77b04-05ce-4cc3-9e66-ed255e9aefcd",
   "metadata": {},
   "source": [
    "## Requisitos:\n",
    "Este programa imprime na tela todos os números de 1 a 100."
   ]
  },
  {
   "cell_type": "code",
   "execution_count": 1,
   "id": "8489e178-69e2-4eb8-b0e9-0b1c1f8949e4",
   "metadata": {},
   "outputs": [
    {
     "name": "stdout",
     "output_type": "stream",
     "text": [
      "0 1 2 3 4 5 6 7 8 9 10 11 12 13 14 15 16 17 18 19 20 21 22 23 24 25 26 27 28 29 30 31 32 33 34 35 36 37 38 39 40 41 42 43 44 45 46 47 48 49 50 51 52 53 54 55 56 57 58 59 60 61 62 63 64 65 66 67 68 69 70 71 72 73 74 75 76 77 78 79 80 81 82 83 84 85 86 87 88 89 90 91 92 93 94 95 96 97 98 99 100 "
     ]
    }
   ],
   "source": [
    "# Processamento e saída de dados:\n",
    "num = 0\n",
    "for num in range(101):\n",
    "    print(num, end= ' ')"
   ]
  },
  {
   "cell_type": "code",
   "execution_count": null,
   "id": "d052b007-f8be-48c0-a8e3-fd7eaf9f7343",
   "metadata": {},
   "outputs": [],
   "source": []
  }
 ],
 "metadata": {
  "kernelspec": {
   "display_name": "Python 3 (ipykernel)",
   "language": "python",
   "name": "python3"
  },
  "language_info": {
   "codemirror_mode": {
    "name": "ipython",
    "version": 3
   },
   "file_extension": ".py",
   "mimetype": "text/x-python",
   "name": "python",
   "nbconvert_exporter": "python",
   "pygments_lexer": "ipython3",
   "version": "3.11.7"
  }
 },
 "nbformat": 4,
 "nbformat_minor": 5
}

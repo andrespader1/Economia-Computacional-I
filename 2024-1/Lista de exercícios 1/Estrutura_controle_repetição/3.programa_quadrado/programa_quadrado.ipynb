{
 "cells": [
  {
   "cell_type": "markdown",
   "id": "8ef1c0c4-8046-4b16-8185-c780af2790ec",
   "metadata": {},
   "source": [
    "# Programa 'Quadrado'"
   ]
  },
  {
   "cell_type": "markdown",
   "id": "699baa86-4a2b-43ec-9381-c696819bad86",
   "metadata": {},
   "source": [
    "## Requisitos:\n",
    "Este programa lê cinco números e imprime na tela o quadrado de cada um deles."
   ]
  },
  {
   "cell_type": "code",
   "execution_count": 6,
   "id": "2fb28e8b-ab21-4023-85e7-383a5a23d589",
   "metadata": {},
   "outputs": [],
   "source": [
    "# Definição de entrada de dados:\n",
    "\n",
    "def entrada_dados():\n",
    "    dados = []\n",
    "    i = 0\n",
    "    while i < 5:\n",
    "        dados.append(float(input(f'\\nDigite a parcela {i + 1}: ')))\n",
    "        i+=1\n",
    "    return dados"
   ]
  },
  {
   "cell_type": "code",
   "execution_count": 5,
   "id": "f46e57db-409a-4efc-ac66-3b4adac7a822",
   "metadata": {},
   "outputs": [],
   "source": [
    "# Definição da função quadrado dos números:\n",
    "\n",
    "def dados(x,y,z,k):\n",
    "    numeros_quadrado = [x ** 2 for x in dados]\n",
    "    return numeros_quadrado"
   ]
  },
  {
   "cell_type": "code",
   "execution_count": 4,
   "id": "640673f6-1575-4ae6-ba00-4f7107dd530e",
   "metadata": {},
   "outputs": [],
   "source": [
    "# Definição da função saída:\n",
    "\n",
    "def saida_dados(x):\n",
    "    print(f'\\nO quadrados dos números inseridos é, respectivamente, {x}. \\n')"
   ]
  },
  {
   "cell_type": "code",
   "execution_count": 7,
   "id": "569e1c15-dd17-4006-8840-28d5d08e6bee",
   "metadata": {},
   "outputs": [],
   "source": [
    "# Definição da função principal:\n",
    "\n",
    "def main():\n",
    "    dados = entrada_dados()\n",
    "    numeros = (dados[0], dados[1], dados[2], dados[3], dados[4])\n",
    "    numeros_quadrado = [x ** 2 for x in numeros]\n",
    "    saida_dados(numeros_quadrado)"
   ]
  },
  {
   "cell_type": "code",
   "execution_count": 9,
   "id": "b21d7d62-a6fa-4033-9481-1207355714c4",
   "metadata": {},
   "outputs": [
    {
     "name": "stdin",
     "output_type": "stream",
     "text": [
      "\n",
      "Digite a parcela 1:  5\n",
      "\n",
      "Digite a parcela 2:  4\n",
      "\n",
      "Digite a parcela 3:  3\n",
      "\n",
      "Digite a parcela 4:  2\n",
      "\n",
      "Digite a parcela 5:  1\n"
     ]
    },
    {
     "name": "stdout",
     "output_type": "stream",
     "text": [
      "\n",
      "O quadrados dos números inseridos é, respectivamente, [25.0, 16.0, 9.0, 4.0, 1.0]. \n",
      "\n"
     ]
    }
   ],
   "source": [
    "# Execução da função:\n",
    "\n",
    "main()"
   ]
  },
  {
   "cell_type": "code",
   "execution_count": null,
   "id": "8934ffbe-eb04-434b-80a7-ad49da3a6f04",
   "metadata": {},
   "outputs": [],
   "source": []
  }
 ],
 "metadata": {
  "kernelspec": {
   "display_name": "Python 3 (ipykernel)",
   "language": "python",
   "name": "python3"
  },
  "language_info": {
   "codemirror_mode": {
    "name": "ipython",
    "version": 3
   },
   "file_extension": ".py",
   "mimetype": "text/x-python",
   "name": "python",
   "nbconvert_exporter": "python",
   "pygments_lexer": "ipython3",
   "version": "3.11.7"
  }
 },
 "nbformat": 4,
 "nbformat_minor": 5
}

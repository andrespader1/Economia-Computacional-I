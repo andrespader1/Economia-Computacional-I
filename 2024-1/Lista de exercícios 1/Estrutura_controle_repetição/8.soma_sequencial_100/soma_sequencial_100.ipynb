{
 "cells": [
  {
   "cell_type": "markdown",
   "id": "6451215f-ca33-4f71-934f-373e84685e6c",
   "metadata": {},
   "source": [
    "# Programa 'Soma sequencial 100'"
   ]
  },
  {
   "cell_type": "markdown",
   "id": "b3bd3bec-6f6e-4125-b45e-c4e6492bf460",
   "metadata": {},
   "source": [
    "## Requisitos:\n",
    "Este programa imprime na tela a soma dos números de 1 a 100."
   ]
  },
  {
   "cell_type": "code",
   "execution_count": 10,
   "id": "0fcb240d-5660-4a9d-97ef-2ce22db72c50",
   "metadata": {},
   "outputs": [
    {
     "name": "stdout",
     "output_type": "stream",
     "text": [
      "5050\n"
     ]
    }
   ],
   "source": [
    "# Processamento e saída de dados:\n",
    "soma = 0\n",
    "soma = sum(range(1, 101))\n",
    "print(soma)"
   ]
  },
  {
   "cell_type": "code",
   "execution_count": null,
   "id": "48254cfc-cfb1-4c20-ae41-07845c15f3ca",
   "metadata": {},
   "outputs": [],
   "source": []
  }
 ],
 "metadata": {
  "kernelspec": {
   "display_name": "Python 3 (ipykernel)",
   "language": "python",
   "name": "python3"
  },
  "language_info": {
   "codemirror_mode": {
    "name": "ipython",
    "version": 3
   },
   "file_extension": ".py",
   "mimetype": "text/x-python",
   "name": "python",
   "nbconvert_exporter": "python",
   "pygments_lexer": "ipython3",
   "version": "3.11.7"
  }
 },
 "nbformat": 4,
 "nbformat_minor": 5
}

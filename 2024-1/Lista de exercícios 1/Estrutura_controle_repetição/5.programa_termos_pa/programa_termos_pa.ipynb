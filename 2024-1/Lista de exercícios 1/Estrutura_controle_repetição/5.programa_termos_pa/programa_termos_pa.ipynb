{
 "cells": [
  {
   "cell_type": "markdown",
   "id": "60724864-c2a2-4c1f-b4ad-cfac870afbd6",
   "metadata": {},
   "source": [
    "# Programa 'Termos PA'"
   ]
  },
  {
   "cell_type": "markdown",
   "id": "119019c6-5558-40ce-a2b8-3e7bc00b185d",
   "metadata": {},
   "source": [
    "## Requisitos:\n",
    "Este programa imprime na tela os 10 primeiros termos de uma progressão aritmética cuja razão é dada pelo usuário."
   ]
  },
  {
   "cell_type": "code",
   "execution_count": 3,
   "id": "7aaa3f84-2471-4562-8d46-662c20bec2d9",
   "metadata": {
    "tags": []
   },
   "outputs": [],
   "source": [
    "# Alocação de memória:\n",
    "a1 = 0\n",
    "r = 0\n",
    "n_1 = 0"
   ]
  },
  {
   "cell_type": "code",
   "execution_count": 4,
   "id": "b6341fcb-c663-47d6-a261-b5f862b52659",
   "metadata": {
    "tags": []
   },
   "outputs": [
    {
     "name": "stdin",
     "output_type": "stream",
     "text": [
      "\n",
      "Digite o primeiro termo:  2\n",
      "\n",
      "Digite a razão:  3\n"
     ]
    }
   ],
   "source": [
    "# Entrada de dados:\n",
    "a1 = float(input(\"\\nDigite o primeiro termo: \"))\n",
    "r = float(input(\"\\nDigite a razão: \"))"
   ]
  },
  {
   "cell_type": "code",
   "execution_count": 5,
   "id": "d4f98fc9-4010-4c30-a36e-c8a22af56287",
   "metadata": {
    "tags": []
   },
   "outputs": [
    {
     "name": "stdout",
     "output_type": "stream",
     "text": [
      "2.0\n",
      "5.0\n",
      "8.0\n",
      "11.0\n",
      "14.0\n",
      "17.0\n",
      "20.0\n",
      "23.0\n",
      "26.0\n",
      "29.0\n"
     ]
    }
   ],
   "source": [
    "# Processamento e saída de dados:\n",
    "\n",
    "while n_1 < 10:\n",
    "    an = n_1 * r + a1\n",
    "    print(an)\n",
    "    n_1+=1"
   ]
  },
  {
   "cell_type": "code",
   "execution_count": null,
   "id": "fa151e0e-c131-4fb0-be5c-f159f31f34e2",
   "metadata": {},
   "outputs": [],
   "source": []
  }
 ],
 "metadata": {
  "kernelspec": {
   "display_name": "Python 3 (ipykernel)",
   "language": "python",
   "name": "python3"
  },
  "language_info": {
   "codemirror_mode": {
    "name": "ipython",
    "version": 3
   },
   "file_extension": ".py",
   "mimetype": "text/x-python",
   "name": "python",
   "nbconvert_exporter": "python",
   "pygments_lexer": "ipython3",
   "version": "3.11.7"
  }
 },
 "nbformat": 4,
 "nbformat_minor": 5
}

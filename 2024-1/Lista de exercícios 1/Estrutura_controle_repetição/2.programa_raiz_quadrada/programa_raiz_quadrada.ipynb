{
 "cells": [
  {
   "cell_type": "markdown",
   "id": "a0d9d0a9-644b-4d7a-8fd0-6bcc65b46d46",
   "metadata": {},
   "source": [
    "# Programa 'Raíz Quadrada'"
   ]
  },
  {
   "cell_type": "markdown",
   "id": "5334f39c-ff8c-4292-b7ad-db61eee0e7a0",
   "metadata": {},
   "source": [
    "## Requisitos:\n",
    "Este programa determina a raiz quadrada de um número dado pelo usuário."
   ]
  },
  {
   "cell_type": "code",
   "execution_count": 1,
   "id": "1f031bf6-902b-41bc-a68b-f158b4e6eb01",
   "metadata": {},
   "outputs": [],
   "source": [
    "# Alocação de memória:\n",
    "numero = 0\n",
    "raiz_round = 0"
   ]
  },
  {
   "cell_type": "code",
   "execution_count": 2,
   "id": "5a874364-b458-48f4-8241-681a41002cf2",
   "metadata": {},
   "outputs": [
    {
     "name": "stdin",
     "output_type": "stream",
     "text": [
      "\n",
      "Digite o número: \n",
      " 64\n"
     ]
    }
   ],
   "source": [
    "# Entrada de dados:\n",
    "numero = float(input(\"\\nDigite o número: \\n\"))"
   ]
  },
  {
   "cell_type": "code",
   "execution_count": 3,
   "id": "26aeede7-010e-4980-b2e9-137917fedc3a",
   "metadata": {},
   "outputs": [
    {
     "name": "stdout",
     "output_type": "stream",
     "text": [
      "\n",
      "A raíz quadrada do numero 64.0 é 8.0. \n",
      "\n"
     ]
    }
   ],
   "source": [
    "# Processamento e saída de dados:\n",
    "if numero > 0:\n",
    "    raiz = numero ** 0.5\n",
    "    raiz_round = round(raiz, 5)\n",
    "    print(f'\\nA raíz quadrada do numero {numero} é {raiz_round}. \\n')\n",
    "\n",
    "else:\n",
    "    print(f'\\nO número {numero} não é válido. \\n')"
   ]
  },
  {
   "cell_type": "code",
   "execution_count": null,
   "id": "2d6d4426-0800-4ff6-8d11-55aed38f74db",
   "metadata": {},
   "outputs": [],
   "source": []
  }
 ],
 "metadata": {
  "kernelspec": {
   "display_name": "Python 3 (ipykernel)",
   "language": "python",
   "name": "python3"
  },
  "language_info": {
   "codemirror_mode": {
    "name": "ipython",
    "version": 3
   },
   "file_extension": ".py",
   "mimetype": "text/x-python",
   "name": "python",
   "nbconvert_exporter": "python",
   "pygments_lexer": "ipython3",
   "version": "3.11.7"
  }
 },
 "nbformat": 4,
 "nbformat_minor": 5
}

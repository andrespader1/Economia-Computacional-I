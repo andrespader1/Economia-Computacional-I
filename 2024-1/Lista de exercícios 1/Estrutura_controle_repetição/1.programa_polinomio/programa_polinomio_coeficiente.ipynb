{
 "cells": [
  {
   "cell_type": "markdown",
   "id": "e197b5e6-5962-471d-9dab-b8b8a29a63cb",
   "metadata": {},
   "source": [
    "# Programa 'Polinômio_Coeficiente'"
   ]
  },
  {
   "cell_type": "markdown",
   "id": "cec582d9-060a-4974-aebd-93f36be4d8ae",
   "metadata": {},
   "source": [
    "## Requisitos:\n",
    "Este programa calcula o valor de um polinômio de grau 'n' supondo que o usuário informou o grau do polinômio e os coeficientes na ordem da lista ordenada a = (a0, a1, ..., an−1, an) onde 'ai' representa o coeficiente do termo de grau 'i'."
   ]
  },
  {
   "cell_type": "code",
   "execution_count": 3,
   "id": "2693518a-e48f-4a1b-a7c2-297718b4a88b",
   "metadata": {
    "tags": []
   },
   "outputs": [
    {
     "name": "stdin",
     "output_type": "stream",
     "text": [
      "Digite o grau do polinômio:  4\n",
      "Digite o coeficiente a0:  2\n",
      "Digite o coeficiente a1:  2\n",
      "Digite o coeficiente a2:  2\n",
      "Digite o coeficiente a3:  2\n",
      "Digite o coeficiente a4:  2\n",
      "Digite o valor de x para calcular o polinômio:  5\n"
     ]
    },
    {
     "name": "stdout",
     "output_type": "stream",
     "text": [
      "O valor do polinômio para x = 5.0 é: 1562.0\n"
     ]
    }
   ],
   "source": [
    "def calcular_polinomio(coeficientes, x):\n",
    "    grau = len(coeficientes) - 1  # Grau do polinômio\n",
    "    resultado = 0\n",
    "    \n",
    "    for i in range(grau + 1):\n",
    "        resultado += coeficientes[i] * (x ** i)\n",
    "    \n",
    "    return resultado\n",
    "\n",
    "# Entrada de dados\n",
    "grau = int(input(\"Digite o grau do polinômio: \"))\n",
    "coeficientes = []\n",
    "for i in range(grau + 1):\n",
    "    coeficiente = float(input(f\"Digite o coeficiente a{i}: \"))\n",
    "    coeficientes.append(coeficiente)\n",
    "\n",
    "x = float(input(\"Digite o valor de x para calcular o polinômio: \"))\n",
    "\n",
    "# Calcula o valor do polinômio\n",
    "resultado = calcular_polinomio(coeficientes, x)\n",
    "\n",
    "# Saída de dados\n",
    "print(f\"O valor do polinômio para x = {x} é: {resultado}\")\n"
   ]
  },
  {
   "cell_type": "code",
   "execution_count": null,
   "id": "632efd99-ba8b-4691-a208-0327f6e42ff0",
   "metadata": {},
   "outputs": [],
   "source": []
  }
 ],
 "metadata": {
  "kernelspec": {
   "display_name": "Python 3 (ipykernel)",
   "language": "python",
   "name": "python3"
  },
  "language_info": {
   "codemirror_mode": {
    "name": "ipython",
    "version": 3
   },
   "file_extension": ".py",
   "mimetype": "text/x-python",
   "name": "python",
   "nbconvert_exporter": "python",
   "pygments_lexer": "ipython3",
   "version": "3.11.7"
  }
 },
 "nbformat": 4,
 "nbformat_minor": 5
}

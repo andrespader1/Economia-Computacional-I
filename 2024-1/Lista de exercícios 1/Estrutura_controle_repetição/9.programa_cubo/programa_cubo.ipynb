{
 "cells": [
  {
   "cell_type": "markdown",
   "id": "2a5f04ee-cf87-4934-82ce-3aa582b76d29",
   "metadata": {},
   "source": [
    "# Programa 'Cubo'"
   ]
  },
  {
   "cell_type": "markdown",
   "id": "bbb39a6a-2e7f-413b-a6e5-246ed1b0eab3",
   "metadata": {},
   "source": [
    "## Requisitos:\n",
    "Este programa lê 6 números e imprime o cubo e a raiz cúbica de cada um deles."
   ]
  },
  {
   "cell_type": "code",
   "execution_count": 1,
   "id": "e7397866-bbb3-49fb-8383-68ad2a227072",
   "metadata": {},
   "outputs": [],
   "source": [
    "# Definição da função entrada de dados;\n",
    "\n",
    "def entrada_dados():\n",
    "    dados = []\n",
    "    i = 0\n",
    "    while i < 6:\n",
    "        dados.append(float(input(f'\\nDigite a parcela {i + 1}: ')))\n",
    "        i += 1\n",
    "    return dados"
   ]
  },
  {
   "cell_type": "code",
   "execution_count": 32,
   "id": "7699a433-f3f7-486a-99dd-2e4e26550646",
   "metadata": {},
   "outputs": [],
   "source": [
    "# Definição da função processamento de dados:\n",
    "def dados(x,y,z,k,m,n):\n",
    "    numeros_cubo = [x ** 3 for x in dados]\n",
    "    raiz_cubica = [y ** (1/3) for y in dados]\n",
    "    return numeros_cubo\n",
    "    return raiz_cubica"
   ]
  },
  {
   "cell_type": "code",
   "execution_count": 42,
   "id": "e93c242b-06cf-43f9-9655-a934ae30d9f6",
   "metadata": {},
   "outputs": [],
   "source": [
    "# Definição da função saída de dados:\n",
    "def saida_dados(x, y):\n",
    "    print(f'\\nOs cubos dos números inseridos são, respectivamente, {x}. As raízes cúbicas dos números inseridos são, respectivamente, {y}.')"
   ]
  },
  {
   "cell_type": "code",
   "execution_count": 39,
   "id": "7eef65ca-1ad2-4cde-8fce-30bed398f704",
   "metadata": {},
   "outputs": [],
   "source": [
    "# Definição da função principal:\n",
    "def main():\n",
    "    dados = entrada_dados()\n",
    "    numeros = (dados[0], dados[1], dados[2], dados[3], dados[4], dados[5])\n",
    "    numeros_cubo = [x ** 3 for x in numeros]\n",
    "    raiz_cubica = [y ** (1/3) for y in numeros]\n",
    "    saida_dados(numeros_cubo, raiz_cubica)"
   ]
  },
  {
   "cell_type": "code",
   "execution_count": 40,
   "id": "e95665a8-d594-405b-9d93-0a14cbb1d065",
   "metadata": {},
   "outputs": [
    {
     "name": "stdin",
     "output_type": "stream",
     "text": [
      "\n",
      "Digite a parcela 1:  1\n",
      "\n",
      "Digite a parcela 2:  2\n",
      "\n",
      "Digite a parcela 3:  3\n",
      "\n",
      "Digite a parcela 4:  9\n",
      "\n",
      "Digite a parcela 5:  27\n",
      "\n",
      "Digite a parcela 6:  81\n"
     ]
    },
    {
     "name": "stdout",
     "output_type": "stream",
     "text": [
      "\n",
      "Os cubos dos números inseridos são, respectivamente, [1.0, 8.0, 27.0, 729.0, 19683.0, 531441.0]. As raízes cúbicas dos números inseridos são, respectivamente, [1.0, 1.2599210498948732, 1.4422495703074083, 2.080083823051904, 3.0, 4.3267487109222245].\n"
     ]
    }
   ],
   "source": [
    "# Execução da função:\n",
    "\n",
    "main()"
   ]
  },
  {
   "cell_type": "code",
   "execution_count": null,
   "id": "f688f184-3b55-487e-8941-f495ecdd3945",
   "metadata": {},
   "outputs": [],
   "source": []
  }
 ],
 "metadata": {
  "kernelspec": {
   "display_name": "Python 3 (ipykernel)",
   "language": "python",
   "name": "python3"
  },
  "language_info": {
   "codemirror_mode": {
    "name": "ipython",
    "version": 3
   },
   "file_extension": ".py",
   "mimetype": "text/x-python",
   "name": "python",
   "nbconvert_exporter": "python",
   "pygments_lexer": "ipython3",
   "version": "3.11.7"
  }
 },
 "nbformat": 4,
 "nbformat_minor": 5
}

{
 "cells": [
  {
   "cell_type": "markdown",
   "id": "5dfece5b-a2d8-476f-9123-fe01e4f9f6c5",
   "metadata": {},
   "source": [
    "# Programação procedural"
   ]
  },
  {
   "cell_type": "code",
   "execution_count": 3,
   "id": "0470d0ce-7d26-4b32-8d4a-e9e865966967",
   "metadata": {},
   "outputs": [],
   "source": [
    "# Listagem 1: definição da função Python soma (função pura)\n",
    "\n",
    "def soma(x,y):\n",
    "    resultado = x + y\n",
    "    return resultado"
   ]
  },
  {
   "cell_type": "code",
   "execution_count": 4,
   "id": "7b0ae854-59de-4708-a36a-10f14d0d5e70",
   "metadata": {},
   "outputs": [
    {
     "data": {
      "text/plain": [
       "7"
      ]
     },
     "execution_count": 4,
     "metadata": {},
     "output_type": "execute_result"
    }
   ],
   "source": [
    "soma(3,4)"
   ]
  },
  {
   "cell_type": "code",
   "execution_count": 5,
   "id": "ca95159a-f001-424d-a305-5efd30e27c22",
   "metadata": {},
   "outputs": [],
   "source": [
    "# Listagem 2: definição da função Python (procedimento)\n",
    "\n",
    "def imprimidora7():\n",
    "    print(7)"
   ]
  },
  {
   "cell_type": "code",
   "execution_count": 6,
   "id": "f76ce452-0154-4e1e-adb0-fcfc25b1f033",
   "metadata": {},
   "outputs": [
    {
     "name": "stdout",
     "output_type": "stream",
     "text": [
      "7\n"
     ]
    }
   ],
   "source": [
    "imprimidora7()"
   ]
  },
  {
   "cell_type": "code",
   "execution_count": 9,
   "id": "add9097a-9fbd-4722-a97b-32ff40277a76",
   "metadata": {},
   "outputs": [],
   "source": [
    "# Listagem 3: definição da função Python importadora numpy (procedimento)\n",
    "\n",
    "def importadora_numpy():\n",
    "    import numpy"
   ]
  },
  {
   "cell_type": "code",
   "execution_count": 10,
   "id": "c5affdd3-a136-42a3-bb94-9c61c39d35e1",
   "metadata": {},
   "outputs": [],
   "source": [
    "importadora_numpy()"
   ]
  },
  {
   "cell_type": "code",
   "execution_count": 11,
   "id": "8bf05f3b-fedd-4356-9766-e8ae9f17cdd1",
   "metadata": {},
   "outputs": [],
   "source": [
    "# Listagem 4: definição da função Python inútil (procedimento)\n",
    "\n",
    "def inutil():\n",
    "    2 + 3\n",
    "    4 + 5\n",
    "    23 + 56"
   ]
  },
  {
   "cell_type": "code",
   "execution_count": 12,
   "id": "6b3a2e8c-3da2-4b17-a2a6-b333ba7aa9c8",
   "metadata": {},
   "outputs": [],
   "source": [
    "inutil()"
   ]
  },
  {
   "cell_type": "code",
   "execution_count": 13,
   "id": "074cad0e-88a6-41e0-bae4-aaaf06318692",
   "metadata": {},
   "outputs": [],
   "source": [
    "# Listagem 5: definição da função Python imprimidora_com_\n",
    "\n",
    "x = 7\n",
    "def imprimidora():\n",
    "    print(x)"
   ]
  },
  {
   "cell_type": "code",
   "execution_count": 15,
   "id": "96c123b7-a778-47f9-83cf-1a7350e460aa",
   "metadata": {},
   "outputs": [
    {
     "name": "stdout",
     "output_type": "stream",
     "text": [
      "7\n"
     ]
    }
   ],
   "source": [
    "imprimidora()"
   ]
  },
  {
   "cell_type": "code",
   "execution_count": 17,
   "id": "8f4d8360-d3e1-429b-919f-09b88462645f",
   "metadata": {},
   "outputs": [
    {
     "name": "stdout",
     "output_type": "stream",
     "text": [
      "9\n"
     ]
    }
   ],
   "source": [
    "x = 9\n",
    "imprimidora()"
   ]
  },
  {
   "cell_type": "code",
   "execution_count": 21,
   "id": "aa7a3de5-06c7-42e1-bcf8-101055a66b36",
   "metadata": {},
   "outputs": [],
   "source": [
    "# Listagem 6: função somaproduto ((x,y),(z,w))\n",
    "\n",
    "def somaproduto(x,y,z,w):\n",
    "    resultado = x*z + y*w\n",
    "    return resultado"
   ]
  },
  {
   "cell_type": "markdown",
   "id": "2b465cb9-7c3a-4431-bd66-7259285c5042",
   "metadata": {},
   "source": [
    "## Exemplos de uso da função somaproduto"
   ]
  },
  {
   "cell_type": "markdown",
   "id": "40f96a5d-2b06-401b-94c8-68b368fba3c3",
   "metadata": {},
   "source": [
    "### 1. Considere os vetores (1,3) e (4,5). Determine o produto escalar:"
   ]
  },
  {
   "cell_type": "code",
   "execution_count": 23,
   "id": "b5045025-024b-4cdd-8ccf-7d5330a69701",
   "metadata": {},
   "outputs": [
    {
     "data": {
      "text/plain": [
       "19"
      ]
     },
     "execution_count": 23,
     "metadata": {},
     "output_type": "execute_result"
    }
   ],
   "source": [
    "somaproduto(1,3,4,5)"
   ]
  },
  {
   "cell_type": "markdown",
   "id": "92999b7f-6e4c-42d9-ba38-3cf15a8db9ac",
   "metadata": {},
   "source": [
    "### 2. Suponha um indivíduo que adquiriu uma cesta de consumo (1,3) aos preços p_1 = 4 e p_2 = 5. Determine a despesa do indivíduo."
   ]
  },
  {
   "cell_type": "code",
   "execution_count": 24,
   "id": "5a074d73-1fa0-40a8-8ab1-84728f94265d",
   "metadata": {},
   "outputs": [
    {
     "data": {
      "text/plain": [
       "19"
      ]
     },
     "execution_count": 24,
     "metadata": {},
     "output_type": "execute_result"
    }
   ],
   "source": [
    "somaproduto(1,3,4,5)"
   ]
  },
  {
   "cell_type": "code",
   "execution_count": 7,
   "id": "68d7dfec-524c-40a6-811d-c06a736a934c",
   "metadata": {},
   "outputs": [],
   "source": [
    "# Listagem 7: função entrada_dados:\n",
    "\n",
    "def entrada_dados():\n",
    "    global dados\n",
    "    x = 7 #esta variável tem escopo local\n",
    "    dados = input(\"Qual o dado: \")"
   ]
  },
  {
   "cell_type": "code",
   "execution_count": 8,
   "id": "5577ab1a-5e74-4e38-bec9-d7474f7a0ee0",
   "metadata": {},
   "outputs": [
    {
     "name": "stdin",
     "output_type": "stream",
     "text": [
      "Qual o dado:  8\n"
     ]
    }
   ],
   "source": [
    "entrada_dados()"
   ]
  },
  {
   "cell_type": "code",
   "execution_count": 9,
   "id": "287afd6d-0f3f-4d64-a795-75e6e7bbd07b",
   "metadata": {},
   "outputs": [
    {
     "data": {
      "text/plain": [
       "'8'"
      ]
     },
     "execution_count": 9,
     "metadata": {},
     "output_type": "execute_result"
    }
   ],
   "source": [
    "dados"
   ]
  },
  {
   "cell_type": "markdown",
   "id": "7d9c066c-6f0c-4d51-ae2c-472c73cc3146",
   "metadata": {},
   "source": [
    "## Escopo da função:\n",
    "\n",
    "Escopo da função é tudo aquilo que está dentro do seu código ou no seu parâmetro. Existem basicamento dois escopos:\n",
    "-  local, e\n",
    "-  global."
   ]
  },
  {
   "cell_type": "code",
   "execution_count": null,
   "id": "51c2e745-8f9b-416d-b6d9-67db63b376e9",
   "metadata": {},
   "outputs": [],
   "source": []
  }
 ],
 "metadata": {
  "kernelspec": {
   "display_name": "Python 3 (ipykernel)",
   "language": "python",
   "name": "python3"
  },
  "language_info": {
   "codemirror_mode": {
    "name": "ipython",
    "version": 3
   },
   "file_extension": ".py",
   "mimetype": "text/x-python",
   "name": "python",
   "nbconvert_exporter": "python",
   "pygments_lexer": "ipython3",
   "version": "3.11.7"
  }
 },
 "nbformat": 4,
 "nbformat_minor": 5
}

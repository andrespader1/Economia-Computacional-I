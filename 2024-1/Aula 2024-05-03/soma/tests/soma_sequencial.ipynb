{
 "cells": [
  {
   "cell_type": "markdown",
   "id": "a23715b6-d98a-4f26-9710-48a9dc87e24a",
   "metadata": {},
   "source": [
    "# Teste do programa soma_sequencial"
   ]
  },
  {
   "cell_type": "code",
   "execution_count": 1,
   "id": "fc9edcf0-4e30-42c4-bf0f-18677f775a69",
   "metadata": {},
   "outputs": [],
   "source": [
    "# Declaração de variáveis\n",
    "\n",
    "numero_1 = 0\n",
    "numero_2 = 0\n",
    "soma = 0"
   ]
  },
  {
   "cell_type": "code",
   "execution_count": 2,
   "id": "039dc839-fca8-4830-b065-ee1467693cf7",
   "metadata": {},
   "outputs": [
    {
     "name": "stdin",
     "output_type": "stream",
     "text": [
      "\n",
      "Digite o primeiro número:  2\n",
      "\n",
      "Digite o segundo número:  5\n"
     ]
    }
   ],
   "source": [
    "# Entrada de dados\n",
    "\n",
    "numero_1 = int(input(\"\\nDigite o primeiro número: \"))\n",
    "numero_2 = int(input(\"\\nDigite o segundo número: \"))"
   ]
  },
  {
   "cell_type": "code",
   "execution_count": 3,
   "id": "3144f98d-4fa8-4111-ba07-113eae6a2499",
   "metadata": {},
   "outputs": [],
   "source": [
    "# Processamento de dados:\n",
    "\n",
    "soma = numero_1 + numero_2"
   ]
  },
  {
   "cell_type": "code",
   "execution_count": 4,
   "id": "08c7dd01-1fc1-446b-a68b-2784919345a4",
   "metadata": {},
   "outputs": [
    {
     "name": "stdout",
     "output_type": "stream",
     "text": [
      "7\n"
     ]
    }
   ],
   "source": [
    "# Saída de dados\n",
    "\n",
    "print(soma)"
   ]
  },
  {
   "cell_type": "code",
   "execution_count": null,
   "id": "1e8b19fd-6849-446a-8f6a-08df7902e035",
   "metadata": {},
   "outputs": [],
   "source": []
  }
 ],
 "metadata": {
  "kernelspec": {
   "display_name": "Python 3 (ipykernel)",
   "language": "python",
   "name": "python3"
  },
  "language_info": {
   "codemirror_mode": {
    "name": "ipython",
    "version": 3
   },
   "file_extension": ".py",
   "mimetype": "text/x-python",
   "name": "python",
   "nbconvert_exporter": "python",
   "pygments_lexer": "ipython3",
   "version": "3.11.7"
  }
 },
 "nbformat": 4,
 "nbformat_minor": 5
}

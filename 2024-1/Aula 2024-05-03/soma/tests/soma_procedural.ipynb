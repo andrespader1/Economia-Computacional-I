{
 "cells": [
  {
   "cell_type": "markdown",
   "id": "4b01b8c2-bc9e-4525-b04c-369b6ab23307",
   "metadata": {},
   "source": [
    "# Soma procedural"
   ]
  },
  {
   "cell_type": "code",
   "execution_count": 21,
   "id": "34efb892-8c70-4e65-8bba-5c28506c54c1",
   "metadata": {},
   "outputs": [],
   "source": [
    "# Definição da função de entrada\n",
    "\n",
    "def entrada_dados():\n",
    "    dados = []\n",
    "    i = 0\n",
    "    while i < 2:\n",
    "         dados.append(int(input(f'\\nDigite a parcela {i + 1}: ')))\n",
    "         i+=1\n",
    "    return dados"
   ]
  },
  {
   "cell_type": "code",
   "execution_count": 22,
   "id": "fac72221-fa46-42d7-b2ef-983d7392fabb",
   "metadata": {},
   "outputs": [
    {
     "name": "stdin",
     "output_type": "stream",
     "text": [
      "\n",
      "Digite a parcela 1:  5\n",
      "\n",
      "Digite a parcela 2:  6\n"
     ]
    }
   ],
   "source": [
    "dados = entrada_dados()"
   ]
  },
  {
   "cell_type": "code",
   "execution_count": 23,
   "id": "e806025b-3c1b-4d1f-8ab9-113656b5e8fc",
   "metadata": {},
   "outputs": [],
   "source": [
    "# Definição da função soma\n",
    "\n",
    "def soma(numero_1, numero_2):\n",
    "    resultado = numero_1 + numero_2\n",
    "    return resultado"
   ]
  },
  {
   "cell_type": "code",
   "execution_count": 24,
   "id": "ff9f4885-08ce-4f6e-8138-7aa5db4057da",
   "metadata": {},
   "outputs": [],
   "source": [
    "resultado = soma(dados[0], dados[1])"
   ]
  },
  {
   "cell_type": "code",
   "execution_count": 25,
   "id": "1c7fa705-4b78-48d0-b6eb-368b6f29b583",
   "metadata": {},
   "outputs": [
    {
     "data": {
      "text/plain": [
       "11"
      ]
     },
     "execution_count": 25,
     "metadata": {},
     "output_type": "execute_result"
    }
   ],
   "source": [
    "resultado"
   ]
  },
  {
   "cell_type": "code",
   "execution_count": 36,
   "id": "e8e742f4-856d-438b-bf59-ca797fa40932",
   "metadata": {},
   "outputs": [],
   "source": [
    "# Definição da função saída\n",
    "\n",
    "def saida_dados(x):\n",
    "    print(f'\\nA soma é igual a {x}.')"
   ]
  },
  {
   "cell_type": "code",
   "execution_count": 37,
   "id": "0a903a9e-2e21-4a3a-bcdd-2dd3217a087f",
   "metadata": {},
   "outputs": [
    {
     "name": "stdout",
     "output_type": "stream",
     "text": [
      "\n",
      "A soma é igual a 11.\n"
     ]
    }
   ],
   "source": [
    "saida_dados(resultado)"
   ]
  },
  {
   "cell_type": "code",
   "execution_count": 38,
   "id": "6855d9cc-f2ef-4286-b946-3adc12c13e63",
   "metadata": {},
   "outputs": [],
   "source": [
    "def main():\n",
    "    dados = entrada_dados()\n",
    "    soma(dados[0], dados [1])\n",
    "    resultado = soma(dados[0], dados[1])\n",
    "    saida_dados(resultado)"
   ]
  },
  {
   "cell_type": "code",
   "execution_count": 39,
   "id": "fc55cf23-b452-444e-9185-e7f82152130a",
   "metadata": {},
   "outputs": [
    {
     "name": "stdin",
     "output_type": "stream",
     "text": [
      "\n",
      "Digite a parcela 1:  5\n",
      "\n",
      "Digite a parcela 2:  6\n"
     ]
    },
    {
     "name": "stdout",
     "output_type": "stream",
     "text": [
      "\n",
      "A soma é igual a 11.\n"
     ]
    }
   ],
   "source": [
    "main()"
   ]
  },
  {
   "cell_type": "code",
   "execution_count": null,
   "id": "d883ba1c-cb85-4747-a7ac-af7b2f0dc769",
   "metadata": {},
   "outputs": [],
   "source": []
  }
 ],
 "metadata": {
  "kernelspec": {
   "display_name": "Python 3 (ipykernel)",
   "language": "python",
   "name": "python3"
  },
  "language_info": {
   "codemirror_mode": {
    "name": "ipython",
    "version": 3
   },
   "file_extension": ".py",
   "mimetype": "text/x-python",
   "name": "python",
   "nbconvert_exporter": "python",
   "pygments_lexer": "ipython3",
   "version": "3.11.7"
  }
 },
 "nbformat": 4,
 "nbformat_minor": 5
}

{
 "cells": [
  {
   "cell_type": "markdown",
   "id": "c0b394b7-fe4b-4d02-9cab-0ca3c77250d5",
   "metadata": {},
   "source": [
    "# Soma estruturada"
   ]
  },
  {
   "cell_type": "code",
   "execution_count": 1,
   "id": "6b895b16-b130-4cde-9543-e9a285bc0fa2",
   "metadata": {},
   "outputs": [
    {
     "name": "stdin",
     "output_type": "stream",
     "text": [
      "Digite a parcela 1:  5\n",
      "Digite a parcela 2:  6\n"
     ]
    }
   ],
   "source": [
    "# Definição de variáveis\n",
    "\n",
    "i = 0\n",
    "numeros = [0,0]\n",
    "soma = 0\n",
    "\n",
    "# Entrada de dados\n",
    "\n",
    "while i < 2:\n",
    "    numeros[i] = int(input(f'Digite a parcela {i+1}: '))\n",
    "    i+=1"
   ]
  },
  {
   "cell_type": "code",
   "execution_count": 2,
   "id": "f0a9d67d-dc8f-451a-a8ea-8ffd5dad9f4c",
   "metadata": {},
   "outputs": [],
   "source": [
    "# Processamento de dados\n",
    "\n",
    "for numero in numeros:\n",
    "    soma+=numero\n",
    "    "
   ]
  },
  {
   "cell_type": "code",
   "execution_count": 5,
   "id": "4b26c952-3c70-4b97-b34d-75020a0d2b0b",
   "metadata": {},
   "outputs": [
    {
     "name": "stdout",
     "output_type": "stream",
     "text": [
      "\n",
      "A soma do número 5 com o número 6 é igual a 11\n"
     ]
    }
   ],
   "source": [
    "# Saída de dados\n",
    "\n",
    "print(f'\\nA soma do número {numeros[0]} com o número {numeros[1]} é igual a {soma}')"
   ]
  },
  {
   "cell_type": "code",
   "execution_count": null,
   "id": "9c5f759a-419b-4a95-95a6-f1134e910dca",
   "metadata": {},
   "outputs": [],
   "source": []
  }
 ],
 "metadata": {
  "kernelspec": {
   "display_name": "Python 3 (ipykernel)",
   "language": "python",
   "name": "python3"
  },
  "language_info": {
   "codemirror_mode": {
    "name": "ipython",
    "version": 3
   },
   "file_extension": ".py",
   "mimetype": "text/x-python",
   "name": "python",
   "nbconvert_exporter": "python",
   "pygments_lexer": "ipython3",
   "version": "3.11.7"
  }
 },
 "nbformat": 4,
 "nbformat_minor": 5
}

{
 "cells": [
  {
   "cell_type": "markdown",
   "id": "61fbabf6-c603-4ccf-9202-ba4b931fa92f",
   "metadata": {},
   "source": [
    "# Codificação do Programa Controlador de Velocidade"
   ]
  },
  {
   "cell_type": "markdown",
   "id": "7c55eacf-e78c-40bc-82b5-01b504938ec3",
   "metadata": {},
   "source": [
    "## Requisitos\n",
    "\n",
    "Desenvolver um programa que pergunte a velocidade do carro dos usuários. Caso ultrapasse 80km/h, exiba uma mensagem dizendo que o usuério foi multado. Nesse caso, exiba o valor da multa, cobrando R $ 5,00 por km acima de 80km/h."
   ]
  },
  {
   "cell_type": "code",
   "execution_count": 11,
   "id": "46202982-c5ff-4936-bb98-adcc9b6874c8",
   "metadata": {},
   "outputs": [
    {
     "name": "stdin",
     "output_type": "stream",
     "text": [
      "\n",
      "Digite a velocidade do veículo: \n",
      " 87.4\n"
     ]
    },
    {
     "name": "stdout",
     "output_type": "stream",
     "text": [
      "\n",
      "O condutor está multado! O valor da multa é de R$ 35,00. \n",
      "\n"
     ]
    }
   ],
   "source": [
    "# Alocação de memória\n",
    "\n",
    "velocidade = 0\n",
    "multa = 5\n",
    "\n",
    "# Entrada de dados\n",
    "\n",
    "velocidade  = float(input(\"\\nDigite a velocidade do veículo: \\n\"))\n",
    "\n",
    "# Processamento de dados\n",
    "\n",
    "if velocidade <= 80:\n",
    "    velocidade_arredondada = round(velocidade)\n",
    "    frase = f\"\\nO condutor está dentro do limite de velocidade permitido na via\\n.\"\n",
    "else:\n",
    "    velocidade_arredondada = round(velocidade)\n",
    "    numero = (velocidade_arredondada - 80) * 5\n",
    "    frase = f\"\\nO condutor está multado! O valor da multa é de R$ {numero},00. \\n\"\n",
    "    \n",
    "# Saída de dados\n",
    "\n",
    "print(frase)"
   ]
  },
  {
   "cell_type": "code",
   "execution_count": null,
   "id": "4f5d4e70-13e3-4850-bf07-594675eac440",
   "metadata": {},
   "outputs": [],
   "source": []
  }
 ],
 "metadata": {
  "kernelspec": {
   "display_name": "Python 3 (ipykernel)",
   "language": "python",
   "name": "python3"
  },
  "language_info": {
   "codemirror_mode": {
    "name": "ipython",
    "version": 3
   },
   "file_extension": ".py",
   "mimetype": "text/x-python",
   "name": "python",
   "nbconvert_exporter": "python",
   "pygments_lexer": "ipython3",
   "version": "3.11.7"
  }
 },
 "nbformat": 4,
 "nbformat_minor": 5
}

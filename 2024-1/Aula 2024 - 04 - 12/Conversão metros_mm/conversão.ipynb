{
 "cells": [
  {
   "cell_type": "markdown",
   "id": "38e26775-9b9c-49fc-967c-833db3e6a8ed",
   "metadata": {},
   "source": [
    "# Codificação do programa Conversão de medidas"
   ]
  },
  {
   "cell_type": "markdown",
   "id": "34db270c-dff7-494c-8d06-899ce8199d3c",
   "metadata": {},
   "source": [
    "## Requisitos\n",
    "\n",
    "Desenvolver um programa que leia um valor em metros e o converta para um valor em milímetros."
   ]
  },
  {
   "cell_type": "code",
   "execution_count": 8,
   "id": "ad991a69-7363-42c4-be7e-c9c7a0829599",
   "metadata": {},
   "outputs": [
    {
     "name": "stdin",
     "output_type": "stream",
     "text": [
      "Digite o valor em metros:  5\n"
     ]
    },
    {
     "name": "stdout",
     "output_type": "stream",
     "text": [
      "\n",
      "O valor 5.0 metros corresponde a 5000.0 milímetros.\n",
      "\n"
     ]
    }
   ],
   "source": [
    "# Alocação de memória\n",
    "\n",
    "numero = 0\n",
    "constante = 1000\n",
    "multiplicação = 0\n",
    "\n",
    "# Entrada de dados\n",
    "\n",
    "numero = float(input(\"Digite o valor em metros: \"))\n",
    "\n",
    "# Processamento de dados\n",
    "\n",
    "multiplicação = numero * constante\n",
    "\n",
    "# Saída de dados\n",
    "\n",
    "print(f\"\\nO valor {numero} metros corresponde a {multiplicação} milímetros.\\n\")"
   ]
  },
  {
   "cell_type": "code",
   "execution_count": 9,
   "id": "d76cf25f-6d59-4703-8713-83c4000858cf",
   "metadata": {},
   "outputs": [],
   "source": [
    "# Alocação de memória\n",
    "\n",
    "metros: float = 0\n",
    "milimetros: float = 0\n"
   ]
  },
  {
   "cell_type": "code",
   "execution_count": 15,
   "id": "8667fd7c-7bad-437d-b89f-fcb70c77837c",
   "metadata": {},
   "outputs": [
    {
     "name": "stdin",
     "output_type": "stream",
     "text": [
      "Digite a distância em metros:  23.4\n"
     ]
    }
   ],
   "source": [
    "## Entrada de dados\n",
    "\n",
    "metros = float(input(\"Digite a distância em metros: \"))\n"
   ]
  },
  {
   "cell_type": "code",
   "execution_count": 18,
   "id": "633a18fe-9073-4887-ae12-8a9abebd8cef",
   "metadata": {},
   "outputs": [],
   "source": [
    "## Processamento de dados\n",
    "\n",
    "milimetros = 1000*metros"
   ]
  },
  {
   "cell_type": "code",
   "execution_count": 19,
   "id": "63427a9f-c74e-4d62-b92e-359c1b83d8ac",
   "metadata": {},
   "outputs": [
    {
     "name": "stdout",
     "output_type": "stream",
     "text": [
      "\n",
      "A distância em milímetros é igual a 23400.0.\n",
      "\n"
     ]
    }
   ],
   "source": [
    "## Saída de dados\n",
    "\n",
    "print(f\"\\nA distância em milímetros é igual a {milimetros}.\\n\")"
   ]
  },
  {
   "cell_type": "code",
   "execution_count": null,
   "id": "9616c695-2713-4ca7-9140-def93d917da1",
   "metadata": {},
   "outputs": [],
   "source": []
  }
 ],
 "metadata": {
  "kernelspec": {
   "display_name": "Python 3 (ipykernel)",
   "language": "python",
   "name": "python3"
  },
  "language_info": {
   "codemirror_mode": {
    "name": "ipython",
    "version": 3
   },
   "file_extension": ".py",
   "mimetype": "text/x-python",
   "name": "python",
   "nbconvert_exporter": "python",
   "pygments_lexer": "ipython3",
   "version": "3.11.7"
  }
 },
 "nbformat": 4,
 "nbformat_minor": 5
}

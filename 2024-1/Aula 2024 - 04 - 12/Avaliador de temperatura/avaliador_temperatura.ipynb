{
 "cells": [
  {
   "cell_type": "markdown",
   "id": "de8cd4f1-46d0-4a62-a21f-39d0a224a991",
   "metadata": {},
   "source": [
    "# Codificação do programa Avaliador de Temperatura"
   ]
  },
  {
   "cell_type": "markdown",
   "id": "8cc4896a-3eaf-484b-a6e5-a7ec55b82a5d",
   "metadata": {},
   "source": [
    "## Requsitos\n",
    "Perguntar ao usuário a temperatura do ambiente. Se ela for menor que ou igual a 18 graus Celsius, imprimir esté\n",
    "frio. Se ela estiver de 18 a 28 graus Celsius, imprimir está agradável. Se estiver mais do que 28 graus Celsius, imprimir está quente."
   ]
  },
  {
   "cell_type": "code",
   "execution_count": 5,
   "id": "cc885dd8-24e0-4733-88e7-cbe02b72358f",
   "metadata": {},
   "outputs": [
    {
     "name": "stdin",
     "output_type": "stream",
     "text": [
      "\n",
      "Informe a temperatura do ambiente: \n",
      " 31\n"
     ]
    },
    {
     "name": "stdout",
     "output_type": "stream",
     "text": [
      "\n",
      "Está quente. \n",
      "\n"
     ]
    }
   ],
   "source": [
    "# Alocação de memória\n",
    "\n",
    "temperatura = 0\n",
    "\n",
    "# Entrada de dados\n",
    "\n",
    "temperatura = float(input(\"\\nInforme a temperatura do ambiente: \\n\"))\n",
    "\n",
    "# Processamento de dados\n",
    "\n",
    "if temperatura <= 18:\n",
    "    frase = \"\\nEstá frio. \\n\"\n",
    "elif temperatura > 18 and temperatura <= 28:\n",
    "    frase = \"\\nEstá agradável. \\n\"\n",
    "else:\n",
    "    frase = \"\\nEstá quente. \\n\"\n",
    "    \n",
    "# Saída de dados\n",
    "\n",
    "print(frase)"
   ]
  },
  {
   "cell_type": "code",
   "execution_count": null,
   "id": "f69e8d24-6b65-4275-9c6f-7956213e83b0",
   "metadata": {},
   "outputs": [],
   "source": []
  }
 ],
 "metadata": {
  "kernelspec": {
   "display_name": "Python 3 (ipykernel)",
   "language": "python",
   "name": "python3"
  },
  "language_info": {
   "codemirror_mode": {
    "name": "ipython",
    "version": 3
   },
   "file_extension": ".py",
   "mimetype": "text/x-python",
   "name": "python",
   "nbconvert_exporter": "python",
   "pygments_lexer": "ipython3",
   "version": "3.11.7"
  }
 },
 "nbformat": 4,
 "nbformat_minor": 5
}

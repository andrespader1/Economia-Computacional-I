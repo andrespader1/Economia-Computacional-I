{
 "cells": [
  {
   "cell_type": "markdown",
   "id": "5e5c83b0-d679-4636-8848-f2613f0280bc",
   "metadata": {},
   "source": [
    "# Codificação do programa Calculadora de Polinômios do Segundo Grau"
   ]
  },
  {
   "cell_type": "markdown",
   "id": "ee10fd3f-0e0a-4575-873a-1be56430dfde",
   "metadata": {},
   "source": [
    "## Requisitos\n",
    "\n",
    "Criar um programa que peça os coeficientes a, b e c de um polinômio de segundo grau e determine as raízes deste polinômio."
   ]
  },
  {
   "cell_type": "code",
   "execution_count": 14,
   "id": "b99fdb53-0210-4793-b116-e22f84f478ae",
   "metadata": {},
   "outputs": [
    {
     "name": "stdin",
     "output_type": "stream",
     "text": [
      "\n",
      " Digite o termo 'a' do polinômio: \n",
      " 1\n",
      "\n",
      " Digite o termo 'b' do polinômio: \n",
      " -4\n",
      "\n",
      " Digite o termo 'c' do polinômio: \n",
      " 3\n"
     ]
    },
    {
     "name": "stdout",
     "output_type": "stream",
     "text": [
      "\n",
      "As raízes do polínômio de segundo grau são 3.0 e 1.0. \n",
      "\n"
     ]
    }
   ],
   "source": [
    "# Alocação de memória\n",
    "\n",
    "a = 0\n",
    "b = 0\n",
    "c = 0\n",
    "\n",
    "# Entrada de dados\n",
    "\n",
    "a = float(input(\"\\n Digite o termo 'a' do polinômio: \\n\"))\n",
    "b = float(input(\"\\n Digite o termo 'b' do polinômio: \\n\"))\n",
    "c = float(input(\"\\n Digite o termo 'c' do polinômio: \\n\"))\n",
    "\n",
    "# Processamento de dados\n",
    "quadrado_b = b ** 2\n",
    "delta = (quadrado_b) - 4 * a * c\n",
    "raiz_1 = (-b + (delta) ** 0.5) / 2 * a\n",
    "raiz_2 = (-b - (delta) ** 0.5) / 2 * a\n",
    "\n",
    "if delta <= 0:\n",
    "    frase = \"\\nO polinômio não possui raízes pertencentes aos números reais. \\n\"\n",
    "elif a == 0:\n",
    "    frase = \"\\nOs dados inseridos não correspondem a um polinômio do segundo grau, pois o termo 'a' não pode ser igual a zero. \\n\"\n",
    "else:\n",
    "    frase = (f\"\\nAs raízes do polínômio de segundo grau são {raiz_1} e {raiz_2}. \\n\")\n",
    "\n",
    "# Saída de dados\n",
    "\n",
    "print(frase)"
   ]
  },
  {
   "cell_type": "code",
   "execution_count": null,
   "id": "531edddc-b0e9-4049-bcd4-4dcbbf07a3d1",
   "metadata": {},
   "outputs": [],
   "source": []
  }
 ],
 "metadata": {
  "kernelspec": {
   "display_name": "Python 3 (ipykernel)",
   "language": "python",
   "name": "python3"
  },
  "language_info": {
   "codemirror_mode": {
    "name": "ipython",
    "version": 3
   },
   "file_extension": ".py",
   "mimetype": "text/x-python",
   "name": "python",
   "nbconvert_exporter": "python",
   "pygments_lexer": "ipython3",
   "version": "3.11.7"
  }
 },
 "nbformat": 4,
 "nbformat_minor": 5
}

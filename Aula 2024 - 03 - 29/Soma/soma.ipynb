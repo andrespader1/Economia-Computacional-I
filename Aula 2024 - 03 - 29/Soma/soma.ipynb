{
 "cells": [
  {
   "cell_type": "markdown",
   "id": "9109524d-c338-4928-ba64-a5202b6b88a1",
   "metadata": {},
   "source": [
    "# Codificação do porgrama soma\n",
    "\n",
    "\n",
    "## Requisitos\n",
    "\n",
    "Desenvolver um programa que leia dois números inteiros digitados pelo usuário e ponha na tela a soma deles."
   ]
  },
  {
   "cell_type": "code",
   "execution_count": 9,
   "id": "b688dc6a-ab65-423a-b099-4657a7844e6e",
   "metadata": {},
   "outputs": [
    {
     "name": "stdin",
     "output_type": "stream",
     "text": [
      "Qual é o primeiro número?  5\n",
      "Qual é o segundo número?  3\n"
     ]
    },
    {
     "name": "stdout",
     "output_type": "stream",
     "text": [
      "8\n"
     ]
    }
   ],
   "source": [
    "# Alocação de mmemória\n",
    "\n",
    "numero_1: int = 0\n",
    "\n",
    "numero_2: int = 0\n",
    "\n",
    "soma: int = 0\n",
    "\n",
    "# Entrada de dados\n",
    "\n",
    "numero_1 = int(input(\"Qual é o primeiro número? \"))\n",
    "\n",
    "numero_2 = int(input(\"Qual é o segundo número? \"))\n",
    "\n",
    "# Processamento de dados\n",
    "\n",
    "soma = numero_1 + numero_2\n",
    "\n",
    "# Saida de dados\n",
    "\n",
    "print(soma)"
   ]
  },
  {
   "cell_type": "code",
   "execution_count": 15,
   "id": "03e43e13-3fdc-4cbe-930c-2d1439ba2f3d",
   "metadata": {},
   "outputs": [
    {
     "name": "stdin",
     "output_type": "stream",
     "text": [
      "Digite a parcela 1:  4\n",
      "Digite a parcela 2:  5\n"
     ]
    },
    {
     "name": "stdout",
     "output_type": "stream",
     "text": [
      "A soma dos números é igual a 9\n"
     ]
    }
   ],
   "source": [
    "# Alocação de mmemória\n",
    "\n",
    "numero: int = 0\n",
    "i = 0\n",
    "soma: int = 0\n",
    "\n",
    "# Entrada e processamento de dados\n",
    "\n",
    "while i < 2:\n",
    "    numero = int(input(f\"Digite a parcela {i + 1}: \"))\n",
    "    soma = soma + numero\n",
    "    i += 1\n",
    "\n",
    "# Saida de dados\n",
    "\n",
    "print(f\"A soma dos números é igual a {soma}\")"
   ]
  },
  {
   "cell_type": "code",
   "execution_count": null,
   "id": "80ae4b43-02c1-48ba-b1c1-ce04a5e8a22f",
   "metadata": {},
   "outputs": [],
   "source": []
  }
 ],
 "metadata": {
  "kernelspec": {
   "display_name": "Python 3 (ipykernel)",
   "language": "python",
   "name": "python3"
  },
  "language_info": {
   "codemirror_mode": {
    "name": "ipython",
    "version": 3
   },
   "file_extension": ".py",
   "mimetype": "text/x-python",
   "name": "python",
   "nbconvert_exporter": "python",
   "pygments_lexer": "ipython3",
   "version": "3.11.7"
  }
 },
 "nbformat": 4,
 "nbformat_minor": 5
}
